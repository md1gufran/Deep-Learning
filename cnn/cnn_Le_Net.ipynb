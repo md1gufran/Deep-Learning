{
  "nbformat": 4,
  "nbformat_minor": 0,
  "metadata": {
    "colab": {
      "provenance": []
    },
    "kernelspec": {
      "name": "python3",
      "display_name": "Python 3"
    },
    "language_info": {
      "name": "python"
    }
  },
  "cells": [
    {
      "cell_type": "code",
      "execution_count": 7,
      "metadata": {
        "id": "nf5KpILeFPja"
      },
      "outputs": [],
      "source": [
        "import numpy as np\n",
        "from PIL import Image"
      ]
    },
    {
      "cell_type": "code",
      "source": [
        "arr = np.random.randint(255, size=(144, 144), dtype=np.uint8)"
      ],
      "metadata": {
        "id": "3osdyjTLNer-"
      },
      "execution_count": 8,
      "outputs": []
    },
    {
      "cell_type": "code",
      "source": [
        "# Converting the numpy array into image\n",
        "img  = Image.fromarray(arr)\n",
        "\n",
        "# Saving the image\n",
        "img.save(\"Image_from_array.png\")\n",
        "\n",
        "print(\" The Image is saved successfully\")"
      ],
      "metadata": {
        "id": "55BI9GUSOfRg",
        "outputId": "7faf5e3b-293b-4496-81e6-faccea8e9335",
        "colab": {
          "base_uri": "https://localhost:8080/"
        }
      },
      "execution_count": 9,
      "outputs": [
        {
          "output_type": "stream",
          "name": "stdout",
          "text": [
            " The Image is saved successfully\n"
          ]
        }
      ]
    },
    {
      "cell_type": "code",
      "source": [
        "img"
      ],
      "metadata": {
        "id": "xEdl1KvDPBDH",
        "outputId": "77e80d23-f831-415e-adce-d173c119adc4",
        "colab": {
          "base_uri": "https://localhost:8080/",
          "height": 161
        }
      },
      "execution_count": 10,
      "outputs": [
        {
          "output_type": "execute_result",
          "data": {
            "text/plain": [
              "<PIL.Image.Image image mode=L size=144x144>"
            ],
            "image/png": "[encoded data removed]"
          },
          "metadata": {},
          "execution_count": 10
        }
      ]
    },
    {
      "cell_type": "code",
      "source": [
        "import tensorflow as tf\n",
        "from tensorflow import keras\n",
        "from keras.datasets import mnist"
      ],
      "metadata": {
        "id": "N0zBo6jFR9y2"
      },
      "execution_count": 12,
      "outputs": []
    },
    {
      "cell_type": "code",
      "source": [
        "(x_train, y_train), (x_test, y_test) = mnist.load_data()"
      ],
      "metadata": {
        "id": "jWBV4iyISI8V",
        "outputId": "44b38339-ea6d-488b-db32-081f750d0c86",
        "colab": {
          "base_uri": "https://localhost:8080/"
        }
      },
      "execution_count": 13,
      "outputs": [
        {
          "output_type": "stream",
          "name": "stdout",
          "text": [
            "Downloading data from https://storage.googleapis.com/tensorflow/tf-keras-datasets/mnist.npz\n",
            "11490434/11490434 [==============================] - 0s 0us/step\n"
          ]
        }
      ]
    },
    {
      "cell_type": "code",
      "source": [
        "model = keras.Sequential([\n",
        "    keras.layers.Conv2D(32,kernel_size=(3,3),padding='same',strides=(2,2),activation='relu',input_shape=(28,28,1)),\n",
        "    keras.layers.MaxPooling2D(pool_size=(2, 2), strides=None, padding=\"valid\"),\n",
        "    keras.layers.Conv2D(32,kernel_size=(3,3),padding='valid',strides=(2,2),activation='relu'),\n",
        "    keras.layers.Conv2D(32,kernel_size=(3,3),padding='same',strides=(2,2),activation='relu'),\n",
        "\n",
        "    keras.layers.Flatten(),\n",
        "\n",
        "    keras.layers.Dense(128,activation='relu'),\n",
        "    keras.layers.Dense(10,activation='softmax')\n",
        "])"
      ],
      "metadata": {
        "id": "EgKjNRY4SbAd"
      },
      "execution_count": 24,
      "outputs": []
    },
    {
      "cell_type": "code",
      "source": [
        "model.summary()"
      ],
      "metadata": {
        "id": "P2DVrYOnTjQj",
        "outputId": "499dd0e0-b4d0-4b84-aa06-ceca8511a78e",
        "colab": {
          "base_uri": "https://localhost:8080/"
        }
      },
      "execution_count": 25,
      "outputs": [
        {
          "output_type": "stream",
          "name": "stdout",
          "text": [
            "Model: \"sequential_4\"\n",
            "_________________________________________________________________\n",
            " Layer (type)                Output Shape              Param #   \n",
            "=================================================================\n",
            " conv2d_12 (Conv2D)          (None, 14, 14, 32)        320       \n",
            "                                                                 \n",
            " max_pooling2d_1 (MaxPoolin  (None, 7, 7, 32)          0         \n",
            " g2D)                                                            \n",
            "                                                                 \n",
            " conv2d_13 (Conv2D)          (None, 3, 3, 32)          9248      \n",
            "                                                                 \n",
            " conv2d_14 (Conv2D)          (None, 2, 2, 32)          9248      \n",
            "                                                                 \n",
            " flatten_4 (Flatten)         (None, 128)               0         \n",
            "                                                                 \n",
            " dense_8 (Dense)             (None, 128)               16512     \n",
            "                                                                 \n",
            " dense_9 (Dense)             (None, 10)                1290      \n",
            "                                                                 \n",
            "=================================================================\n",
            "Total params: 36618 (143.04 KB)\n",
            "Trainable params: 36618 (143.04 KB)\n",
            "Non-trainable params: 0 (0.00 Byte)\n",
            "_________________________________________________________________\n"
          ]
        }
      ]
    },
    {
      "cell_type": "markdown",
      "source": [
        "Le Net Architecture"
      ],
      "metadata": {
        "id": "K2C_jt4Lstz2"
      }
    },
    {
      "cell_type": "code",
      "source": [
        "model = keras.Sequential([\n",
        "    keras.layers.Conv2D(6,kernel_size=(5,5),activation='tanh',padding='valid',input_shape=(32,32,1)),\n",
        "    keras.layers.AveragePooling2D(pool_size=(2,2),strides=(2,2),padding='valid'),\n",
        "    keras.layers.Conv2D(16,kernel_size=(5,5),activation='tanh',padding='valid'),\n",
        "    keras.layers.AveragePooling2D(pool_size=(2,2),strides=(2,2),padding='valid'),\n",
        "\n",
        "    keras.layers.Flatten(),\n",
        "    keras.layers.Dense(120,activation='tanh'),\n",
        "    keras.layers.Dense(80,activation='tanh'),\n",
        "    keras.layers.Dense(10,activation='softmax')\n",
        "])"
      ],
      "metadata": {
        "id": "uDqgEIvvswkm"
      },
      "execution_count": 29,
      "outputs": []
    },
    {
      "cell_type": "code",
      "source": [
        "model.summary()"
      ],
      "metadata": {
        "id": "n5W9o-vzt2Su",
        "outputId": "ce2d981d-1994-42c2-eb1e-7ffca216876c",
        "colab": {
          "base_uri": "https://localhost:8080/"
        }
      },
      "execution_count": 30,
      "outputs": [
        {
          "output_type": "stream",
          "name": "stdout",
          "text": [
            "Model: \"sequential_6\"\n",
            "_________________________________________________________________\n",
            " Layer (type)                Output Shape              Param #   \n",
            "=================================================================\n",
            " conv2d_17 (Conv2D)          (None, 28, 28, 6)         156       \n",
            "                                                                 \n",
            " average_pooling2d_2 (Avera  (None, 14, 14, 6)         0         \n",
            " gePooling2D)                                                    \n",
            "                                                                 \n",
            " conv2d_18 (Conv2D)          (None, 10, 10, 16)        2416      \n",
            "                                                                 \n",
            " average_pooling2d_3 (Avera  (None, 5, 5, 16)          0         \n",
            " gePooling2D)                                                    \n",
            "                                                                 \n",
            " flatten_6 (Flatten)         (None, 400)               0         \n",
            "                                                                 \n",
            " dense_13 (Dense)            (None, 120)               48120     \n",
            "                                                                 \n",
            " dense_14 (Dense)            (None, 80)                9680      \n",
            "                                                                 \n",
            " dense_15 (Dense)            (None, 10)                810       \n",
            "                                                                 \n",
            "=================================================================\n",
            "Total params: 61182 (238.99 KB)\n",
            "Trainable params: 61182 (238.99 KB)\n",
            "Non-trainable params: 0 (0.00 Byte)\n",
            "_________________________________________________________________\n"
          ]
        }
      ]
    }
  ]
}