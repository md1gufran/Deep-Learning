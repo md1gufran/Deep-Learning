{
  "nbformat": 4,
  "nbformat_minor": 0,
  "metadata": {
    "colab": {
      "provenance": []
    },
    "kernelspec": {
      "name": "python3",
      "display_name": "Python 3"
    },
    "language_info": {
      "name": "python"
    }
  },
  "cells": [
    {
      "cell_type": "code",
      "execution_count": 25,
      "metadata": {
        "id": "_uaA_F-FRDug"
      },
      "outputs": [],
      "source": [
        "import pandas as pd\n",
        "import numpy as np"
      ]
    },
    {
      "cell_type": "code",
      "source": [
        "df = pd.read_csv(\"placement(17).csv\")\n",
        "df.iloc[:,1].max()\n",
        "df.shape\n",
        "df.head(3)\n",
        "df.placed.head(3)"
      ],
      "metadata": {
        "colab": {
          "base_uri": "https://localhost:8080/"
        },
        "id": "l9aCCsrqRP3G",
        "outputId": "b9f4ac53-002e-4b4f-adb5-fafe521a4341"
      },
      "execution_count": 26,
      "outputs": [
        {
          "output_type": "execute_result",
          "data": {
            "text/plain": [
              "0    1\n",
              "1    0\n",
              "2    1\n",
              "Name: placed, dtype: int64"
            ]
          },
          "metadata": {},
          "execution_count": 26
        }
      ]
    },
    {
      "cell_type": "code",
      "source": [
        "from sklearn import preprocessing\n",
        "from sklearn.model_selection import train_test_split\n",
        "scaler = preprocessing.MinMaxScaler()"
      ],
      "metadata": {
        "id": "7w_gQgl6R_Jn"
      },
      "execution_count": 27,
      "outputs": []
    },
    {
      "cell_type": "code",
      "source": [
        "x = df.drop('placed',axis='columns')\n",
        "y = df['placed']\n",
        "x_train,x_test,y_train,y_test = train_test_split(x,y,test_size=0.2,random_state=5)"
      ],
      "metadata": {
        "id": "MVPPQqafTIIQ"
      },
      "execution_count": 31,
      "outputs": []
    },
    {
      "cell_type": "code",
      "source": [
        "x_train = scaler.fit_transform(x_train)\n",
        "x_test = scaler.fit_transform(x_test)"
      ],
      "metadata": {
        "id": "2q703YhIUyGY"
      },
      "execution_count": 51,
      "outputs": []
    },
    {
      "cell_type": "code",
      "source": [
        "import tensorflow as tf\n",
        "from tensorflow import keras"
      ],
      "metadata": {
        "id": "35c85vjqVMSd"
      },
      "execution_count": 52,
      "outputs": []
    },
    {
      "cell_type": "code",
      "source": [
        "model = keras.Sequential([\n",
        "    keras.layers.Dense(4,input_shape=(2,),activation='relu'),\n",
        "    keras.layers.Dense(2,activation='relu'),\n",
        "    keras.layers.Dense(4,activation='relu'),\n",
        "    keras.layers.Dense(8,activation='relu'),\n",
        "    keras.layers.Dense(4,activation='sigmoid'),\n",
        "    keras.layers.Dense(1,activation='sigmoid')\n",
        "])\n",
        "model.compile(\n",
        "    loss = 'binary_crossentropy',\n",
        "    optimizer='adam',\n",
        "    metrics = 'accuracy'\n",
        ")\n",
        "model.fit(x_test,y_test,epochs=100)"
      ],
      "metadata": {
        "colab": {
          "base_uri": "https://localhost:8080/"
        },
        "id": "i465pyenVT_R",
        "outputId": "205e6ce5-6571-4851-a001-4cfe02a9c67d"
      },
      "execution_count": 56,
      "outputs": [
        {
          "output_type": "stream",
          "name": "stdout",
          "text": [
            "Epoch 1/100\n",
            "1/1 [==============================] - 1s 1s/step - loss: 0.6908 - accuracy: 0.5000\n",
            "Epoch 2/100\n",
            "1/1 [==============================] - 0s 12ms/step - loss: 0.6906 - accuracy: 0.5000\n",
            "Epoch 3/100\n",
            "1/1 [==============================] - 0s 14ms/step - loss: 0.6903 - accuracy: 0.5000\n",
            "Epoch 4/100\n",
            "1/1 [==============================] - 0s 12ms/step - loss: 0.6900 - accuracy: 0.5000\n",
            "Epoch 5/100\n",
            "1/1 [==============================] - 0s 16ms/step - loss: 0.6897 - accuracy: 0.5000\n",
            "Epoch 6/100\n",
            "1/1 [==============================] - 0s 15ms/step - loss: 0.6894 - accuracy: 0.5000\n",
            "Epoch 7/100\n",
            "1/1 [==============================] - 0s 15ms/step - loss: 0.6891 - accuracy: 0.5000\n",
            "Epoch 8/100\n",
            "1/1 [==============================] - 0s 13ms/step - loss: 0.6888 - accuracy: 0.5000\n",
            "Epoch 9/100\n",
            "1/1 [==============================] - 0s 11ms/step - loss: 0.6885 - accuracy: 0.5000\n",
            "Epoch 10/100\n",
            "1/1 [==============================] - 0s 11ms/step - loss: 0.6883 - accuracy: 0.5000\n",
            "Epoch 11/100\n",
            "1/1 [==============================] - 0s 12ms/step - loss: 0.6880 - accuracy: 0.5000\n",
            "Epoch 12/100\n",
            "1/1 [==============================] - 0s 11ms/step - loss: 0.6877 - accuracy: 0.5000\n",
            "Epoch 13/100\n",
            "1/1 [==============================] - 0s 11ms/step - loss: 0.6874 - accuracy: 0.5000\n",
            "Epoch 14/100\n",
            "1/1 [==============================] - 0s 13ms/step - loss: 0.6871 - accuracy: 0.5000\n",
            "Epoch 15/100\n",
            "1/1 [==============================] - 0s 13ms/step - loss: 0.6868 - accuracy: 0.5000\n",
            "Epoch 16/100\n",
            "1/1 [==============================] - 0s 12ms/step - loss: 0.6865 - accuracy: 0.5000\n",
            "Epoch 17/100\n",
            "1/1 [==============================] - 0s 20ms/step - loss: 0.6862 - accuracy: 0.5000\n",
            "Epoch 18/100\n",
            "1/1 [==============================] - 0s 14ms/step - loss: 0.6859 - accuracy: 0.5000\n",
            "Epoch 19/100\n",
            "1/1 [==============================] - 0s 16ms/step - loss: 0.6856 - accuracy: 0.5000\n",
            "Epoch 20/100\n",
            "1/1 [==============================] - 0s 18ms/step - loss: 0.6853 - accuracy: 0.5000\n",
            "Epoch 21/100\n",
            "1/1 [==============================] - 0s 18ms/step - loss: 0.6849 - accuracy: 0.5000\n",
            "Epoch 22/100\n",
            "1/1 [==============================] - 0s 20ms/step - loss: 0.6846 - accuracy: 0.5000\n",
            "Epoch 23/100\n",
            "1/1 [==============================] - 0s 17ms/step - loss: 0.6843 - accuracy: 0.5500\n",
            "Epoch 24/100\n",
            "1/1 [==============================] - 0s 16ms/step - loss: 0.6839 - accuracy: 0.5500\n",
            "Epoch 25/100\n",
            "1/1 [==============================] - 0s 15ms/step - loss: 0.6836 - accuracy: 0.6500\n",
            "Epoch 26/100\n",
            "1/1 [==============================] - 0s 15ms/step - loss: 0.6832 - accuracy: 0.6500\n",
            "Epoch 27/100\n",
            "1/1 [==============================] - 0s 18ms/step - loss: 0.6829 - accuracy: 0.6500\n",
            "Epoch 28/100\n",
            "1/1 [==============================] - 0s 23ms/step - loss: 0.6825 - accuracy: 0.6500\n",
            "Epoch 29/100\n",
            "1/1 [==============================] - 0s 18ms/step - loss: 0.6821 - accuracy: 0.6500\n",
            "Epoch 30/100\n",
            "1/1 [==============================] - 0s 17ms/step - loss: 0.6817 - accuracy: 0.7000\n",
            "Epoch 31/100\n",
            "1/1 [==============================] - 0s 16ms/step - loss: 0.6812 - accuracy: 0.7500\n",
            "Epoch 32/100\n",
            "1/1 [==============================] - 0s 18ms/step - loss: 0.6808 - accuracy: 0.7500\n",
            "Epoch 33/100\n",
            "1/1 [==============================] - 0s 19ms/step - loss: 0.6803 - accuracy: 0.7500\n",
            "Epoch 34/100\n",
            "1/1 [==============================] - 0s 17ms/step - loss: 0.6799 - accuracy: 0.8000\n",
            "Epoch 35/100\n",
            "1/1 [==============================] - 0s 18ms/step - loss: 0.6794 - accuracy: 0.8500\n",
            "Epoch 36/100\n",
            "1/1 [==============================] - 0s 26ms/step - loss: 0.6790 - accuracy: 0.8500\n",
            "Epoch 37/100\n",
            "1/1 [==============================] - 0s 30ms/step - loss: 0.6785 - accuracy: 0.8500\n",
            "Epoch 38/100\n",
            "1/1 [==============================] - 0s 37ms/step - loss: 0.6780 - accuracy: 0.8500\n",
            "Epoch 39/100\n",
            "1/1 [==============================] - 0s 19ms/step - loss: 0.6775 - accuracy: 0.8500\n",
            "Epoch 40/100\n",
            "1/1 [==============================] - 0s 22ms/step - loss: 0.6770 - accuracy: 0.8500\n",
            "Epoch 41/100\n",
            "1/1 [==============================] - 0s 17ms/step - loss: 0.6764 - accuracy: 0.8500\n",
            "Epoch 42/100\n",
            "1/1 [==============================] - 0s 15ms/step - loss: 0.6759 - accuracy: 0.8500\n",
            "Epoch 43/100\n",
            "1/1 [==============================] - 0s 21ms/step - loss: 0.6753 - accuracy: 0.8500\n",
            "Epoch 44/100\n",
            "1/1 [==============================] - 0s 41ms/step - loss: 0.6747 - accuracy: 0.8500\n",
            "Epoch 45/100\n",
            "1/1 [==============================] - 0s 38ms/step - loss: 0.6741 - accuracy: 0.8500\n",
            "Epoch 46/100\n",
            "1/1 [==============================] - 0s 16ms/step - loss: 0.6735 - accuracy: 0.8500\n",
            "Epoch 47/100\n",
            "1/1 [==============================] - 0s 26ms/step - loss: 0.6729 - accuracy: 0.8500\n",
            "Epoch 48/100\n",
            "1/1 [==============================] - 0s 20ms/step - loss: 0.6723 - accuracy: 0.8500\n",
            "Epoch 49/100\n",
            "1/1 [==============================] - 0s 25ms/step - loss: 0.6717 - accuracy: 0.8500\n",
            "Epoch 50/100\n",
            "1/1 [==============================] - 0s 20ms/step - loss: 0.6711 - accuracy: 0.8500\n",
            "Epoch 51/100\n",
            "1/1 [==============================] - 0s 20ms/step - loss: 0.6705 - accuracy: 0.9000\n",
            "Epoch 52/100\n",
            "1/1 [==============================] - 0s 31ms/step - loss: 0.6698 - accuracy: 0.9000\n",
            "Epoch 53/100\n",
            "1/1 [==============================] - 0s 26ms/step - loss: 0.6692 - accuracy: 0.9000\n",
            "Epoch 54/100\n",
            "1/1 [==============================] - 0s 19ms/step - loss: 0.6685 - accuracy: 0.9500\n",
            "Epoch 55/100\n",
            "1/1 [==============================] - 0s 15ms/step - loss: 0.6678 - accuracy: 0.9500\n",
            "Epoch 56/100\n",
            "1/1 [==============================] - 0s 14ms/step - loss: 0.6670 - accuracy: 0.9500\n",
            "Epoch 57/100\n",
            "1/1 [==============================] - 0s 14ms/step - loss: 0.6663 - accuracy: 0.9500\n",
            "Epoch 58/100\n",
            "1/1 [==============================] - 0s 14ms/step - loss: 0.6655 - accuracy: 0.9500\n",
            "Epoch 59/100\n",
            "1/1 [==============================] - 0s 14ms/step - loss: 0.6647 - accuracy: 0.9500\n",
            "Epoch 60/100\n",
            "1/1 [==============================] - 0s 14ms/step - loss: 0.6639 - accuracy: 0.9500\n",
            "Epoch 61/100\n",
            "1/1 [==============================] - 0s 15ms/step - loss: 0.6631 - accuracy: 0.9500\n",
            "Epoch 62/100\n",
            "1/1 [==============================] - 0s 15ms/step - loss: 0.6622 - accuracy: 0.9500\n",
            "Epoch 63/100\n",
            "1/1 [==============================] - 0s 18ms/step - loss: 0.6614 - accuracy: 0.9500\n",
            "Epoch 64/100\n",
            "1/1 [==============================] - 0s 20ms/step - loss: 0.6605 - accuracy: 0.9500\n",
            "Epoch 65/100\n",
            "1/1 [==============================] - 0s 21ms/step - loss: 0.6596 - accuracy: 0.9500\n",
            "Epoch 66/100\n",
            "1/1 [==============================] - 0s 22ms/step - loss: 0.6586 - accuracy: 0.9500\n",
            "Epoch 67/100\n",
            "1/1 [==============================] - 0s 21ms/step - loss: 0.6577 - accuracy: 0.9500\n",
            "Epoch 68/100\n",
            "1/1 [==============================] - 0s 16ms/step - loss: 0.6568 - accuracy: 0.9500\n",
            "Epoch 69/100\n",
            "1/1 [==============================] - 0s 15ms/step - loss: 0.6559 - accuracy: 0.9500\n",
            "Epoch 70/100\n",
            "1/1 [==============================] - 0s 15ms/step - loss: 0.6549 - accuracy: 0.9500\n",
            "Epoch 71/100\n",
            "1/1 [==============================] - 0s 17ms/step - loss: 0.6540 - accuracy: 0.9500\n",
            "Epoch 72/100\n",
            "1/1 [==============================] - 0s 19ms/step - loss: 0.6530 - accuracy: 0.9500\n",
            "Epoch 73/100\n",
            "1/1 [==============================] - 0s 16ms/step - loss: 0.6520 - accuracy: 0.9500\n",
            "Epoch 74/100\n",
            "1/1 [==============================] - 0s 19ms/step - loss: 0.6510 - accuracy: 0.9500\n",
            "Epoch 75/100\n",
            "1/1 [==============================] - 0s 19ms/step - loss: 0.6500 - accuracy: 0.9500\n",
            "Epoch 76/100\n",
            "1/1 [==============================] - 0s 19ms/step - loss: 0.6489 - accuracy: 0.9500\n",
            "Epoch 77/100\n",
            "1/1 [==============================] - 0s 16ms/step - loss: 0.6478 - accuracy: 0.9500\n",
            "Epoch 78/100\n",
            "1/1 [==============================] - 0s 14ms/step - loss: 0.6468 - accuracy: 0.9500\n",
            "Epoch 79/100\n",
            "1/1 [==============================] - 0s 15ms/step - loss: 0.6457 - accuracy: 0.9500\n",
            "Epoch 80/100\n",
            "1/1 [==============================] - 0s 15ms/step - loss: 0.6446 - accuracy: 0.9500\n",
            "Epoch 81/100\n",
            "1/1 [==============================] - 0s 16ms/step - loss: 0.6435 - accuracy: 0.9500\n",
            "Epoch 82/100\n",
            "1/1 [==============================] - 0s 20ms/step - loss: 0.6424 - accuracy: 0.9500\n",
            "Epoch 83/100\n",
            "1/1 [==============================] - 0s 23ms/step - loss: 0.6412 - accuracy: 0.9500\n",
            "Epoch 84/100\n",
            "1/1 [==============================] - 0s 24ms/step - loss: 0.6401 - accuracy: 0.9500\n",
            "Epoch 85/100\n",
            "1/1 [==============================] - 0s 15ms/step - loss: 0.6389 - accuracy: 0.9500\n",
            "Epoch 86/100\n",
            "1/1 [==============================] - 0s 15ms/step - loss: 0.6377 - accuracy: 0.9500\n",
            "Epoch 87/100\n",
            "1/1 [==============================] - 0s 18ms/step - loss: 0.6365 - accuracy: 0.9500\n",
            "Epoch 88/100\n",
            "1/1 [==============================] - 0s 18ms/step - loss: 0.6353 - accuracy: 0.9500\n",
            "Epoch 89/100\n",
            "1/1 [==============================] - 0s 21ms/step - loss: 0.6341 - accuracy: 0.9500\n",
            "Epoch 90/100\n",
            "1/1 [==============================] - 0s 15ms/step - loss: 0.6329 - accuracy: 0.9500\n",
            "Epoch 91/100\n",
            "1/1 [==============================] - 0s 12ms/step - loss: 0.6316 - accuracy: 0.9500\n",
            "Epoch 92/100\n",
            "1/1 [==============================] - 0s 15ms/step - loss: 0.6303 - accuracy: 0.9500\n",
            "Epoch 93/100\n",
            "1/1 [==============================] - 0s 14ms/step - loss: 0.6290 - accuracy: 0.9500\n",
            "Epoch 94/100\n",
            "1/1 [==============================] - 0s 13ms/step - loss: 0.6277 - accuracy: 0.9500\n",
            "Epoch 95/100\n",
            "1/1 [==============================] - 0s 17ms/step - loss: 0.6264 - accuracy: 0.9500\n",
            "Epoch 96/100\n",
            "1/1 [==============================] - 0s 19ms/step - loss: 0.6251 - accuracy: 0.9500\n",
            "Epoch 97/100\n",
            "1/1 [==============================] - 0s 15ms/step - loss: 0.6237 - accuracy: 0.9500\n",
            "Epoch 98/100\n",
            "1/1 [==============================] - 0s 15ms/step - loss: 0.6223 - accuracy: 0.9500\n",
            "Epoch 99/100\n",
            "1/1 [==============================] - 0s 15ms/step - loss: 0.6209 - accuracy: 0.9500\n",
            "Epoch 100/100\n",
            "1/1 [==============================] - 0s 15ms/step - loss: 0.6195 - accuracy: 0.9500\n"
          ]
        },
        {
          "output_type": "execute_result",
          "data": {
            "text/plain": [
              "<keras.src.callbacks.History at 0x7c2f208e48b0>"
            ]
          },
          "metadata": {},
          "execution_count": 56
        }
      ]
    },
    {
      "cell_type": "code",
      "source": [
        "model.evaluate(x_test,y_test)"
      ],
      "metadata": {
        "colab": {
          "base_uri": "https://localhost:8080/"
        },
        "id": "LlolZ9yqXE_x",
        "outputId": "77935d00-00f7-43ff-c7a9-f7adfd5759c0"
      },
      "execution_count": 59,
      "outputs": [
        {
          "output_type": "stream",
          "name": "stdout",
          "text": [
            "1/1 [==============================] - 0s 229ms/step - loss: 0.6181 - accuracy: 0.9500\n"
          ]
        },
        {
          "output_type": "execute_result",
          "data": {
            "text/plain": [
              "[0.6180843114852905, 0.949999988079071]"
            ]
          },
          "metadata": {},
          "execution_count": 59
        }
      ]
    },
    {
      "cell_type": "code",
      "source": [
        "predict = model.predict(x_test)"
      ],
      "metadata": {
        "colab": {
          "base_uri": "https://localhost:8080/"
        },
        "id": "bSweL0qjYlSx",
        "outputId": "ced9ba75-99a6-447e-d3dc-268c34ee484b"
      },
      "execution_count": 67,
      "outputs": [
        {
          "output_type": "stream",
          "name": "stdout",
          "text": [
            "1/1 [==============================] - 0s 168ms/step\n"
          ]
        }
      ]
    },
    {
      "cell_type": "code",
      "source": [
        "predict\n",
        "y_predict = []\n",
        "for i in predict:\n",
        "  if i< 0.5:\n",
        "    y_predict.append(0)\n",
        "  else:\n",
        "    y_predict.append(1)"
      ],
      "metadata": {
        "id": "E3NA2W-RYxlY"
      },
      "execution_count": 66,
      "outputs": []
    },
    {
      "cell_type": "code",
      "source": [
        "from sklearn.metrics import confusion_matrix,classification_report\n",
        "print(classification_report(y_test,y_predict))"
      ],
      "metadata": {
        "colab": {
          "base_uri": "https://localhost:8080/"
        },
        "id": "5MfTbHjhZOnh",
        "outputId": "52e4d315-a9a0-4514-cfdd-fa6f17130ba5"
      },
      "execution_count": 68,
      "outputs": [
        {
          "output_type": "stream",
          "name": "stdout",
          "text": [
            "              precision    recall  f1-score   support\n",
            "\n",
            "           0       1.00      0.90      0.95        10\n",
            "           1       0.91      1.00      0.95        10\n",
            "\n",
            "    accuracy                           0.95        20\n",
            "   macro avg       0.95      0.95      0.95        20\n",
            "weighted avg       0.95      0.95      0.95        20\n",
            "\n"
          ]
        }
      ]
    },
    {
      "cell_type": "code",
      "source": [
        "import seaborn as sn\n",
        "import matplotlib.pyplot as plt\n",
        "cm = tf.math.confusion_matrix(labels=y_test,predictions=y_predict)\n",
        "\n",
        "plt.figure(figsize=(7,5))\n",
        "sn.heatmap(cm,annot=True,fmt='d')\n",
        "plt.xlabel(\"Predicted\")\n",
        "plt.ylabel(\"Truth\")"
      ],
      "metadata": {
        "colab": {
          "base_uri": "https://localhost:8080/",
          "height": 488
        },
        "id": "ElWwKTwgZX8E",
        "outputId": "3d7ef11c-1bdc-47de-ca16-86fc09c346c4"
      },
      "execution_count": 70,
      "outputs": [
        {
          "output_type": "execute_result",
          "data": {
            "text/plain": [
              "Text(58.222222222222214, 0.5, 'Truth')"
            ]
          },
          "metadata": {},
          "execution_count": 70
        },
        {
          "output_type": "display_data",
          "data": {
            "text/plain": [
              "<Figure size 700x500 with 2 Axes>"
            ],
            "image/png": "[encoded data removed]"
          },
          "metadata": {}
        }
      ]
    }
  ]
}