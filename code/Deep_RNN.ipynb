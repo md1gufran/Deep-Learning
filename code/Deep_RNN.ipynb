{
  "nbformat": 4,
  "nbformat_minor": 0,
  "metadata": {
    "colab": {
      "provenance": [],
      "gpuType": "T4"
    },
    "kernelspec": {
      "name": "python3",
      "display_name": "Python 3"
    },
    "language_info": {
      "name": "python"
    },
    "accelerator": "GPU"
  },
  "cells": [
    {
      "cell_type": "code",
      "execution_count": 1,
      "metadata": {
        "id": "CKU-nV3q_N5D"
      },
      "outputs": [],
      "source": [
        "import numpy as np\n",
        "import pandas as pd"
      ]
    },
    {
      "cell_type": "code",
      "source": [
        "import tensorflow as tf\n",
        "from tensorflow import keras\n",
        "from tensorflow.keras.models import Sequential\n",
        "from tensorflow.keras.layers import Dense,Embedding, SimpleRNN\n",
        "from tensorflow.keras.datasets import imdb\n",
        "from tensorflow.keras.preprocessing.sequence import pad_sequences\n",
        "from tensorflow.keras.layers import LSTM"
      ],
      "metadata": {
        "id": "Qnm3mPCx_XV8"
      },
      "execution_count": 8,
      "outputs": []
    },
    {
      "cell_type": "code",
      "source": [
        "(x_train,y_train),(x_test,y_test) = imdb.load_data(num_words=10000)"
      ],
      "metadata": {
        "colab": {
          "base_uri": "https://localhost:8080/"
        },
        "id": "5yTEhQbF_xVC",
        "outputId": "3c573602-3a88-4cd6-d932-2b963bd14207"
      },
      "execution_count": 3,
      "outputs": [
        {
          "output_type": "stream",
          "name": "stdout",
          "text": [
            "Downloading data from https://storage.googleapis.com/tensorflow/tf-keras-datasets/imdb.npz\n",
            "17464789/17464789 [==============================] - 1s 0us/step\n"
          ]
        }
      ]
    },
    {
      "cell_type": "code",
      "source": [
        "x_train.shape"
      ],
      "metadata": {
        "colab": {
          "base_uri": "https://localhost:8080/"
        },
        "id": "AWW1bMDDB1q_",
        "outputId": "7bb3a949-de80-4ec5-f3f6-35f7e5202540"
      },
      "execution_count": 4,
      "outputs": [
        {
          "output_type": "execute_result",
          "data": {
            "text/plain": [
              "(25000,)"
            ]
          },
          "metadata": {},
          "execution_count": 4
        }
      ]
    },
    {
      "cell_type": "code",
      "source": [
        "x_train = pad_sequences(x_train,maxlen=100)"
      ],
      "metadata": {
        "id": "mNx0DXLmCHLJ"
      },
      "execution_count": 5,
      "outputs": []
    },
    {
      "cell_type": "code",
      "source": [
        "x_test = pad_sequences(x_test,maxlen=100)"
      ],
      "metadata": {
        "id": "uY9uhPArCV6b"
      },
      "execution_count": 6,
      "outputs": []
    },
    {
      "cell_type": "code",
      "source": [
        "model = Sequential([\n",
        "    Embedding(10000, 32, input_length=100),\n",
        "    SimpleRNN(5, return_sequences=True),\n",
        "    LSTM(5),\n",
        "    Dense(1, activation='sigmoid')\n",
        "])"
      ],
      "metadata": {
        "id": "0pUVFPBSFn60"
      },
      "execution_count": 9,
      "outputs": []
    },
    {
      "cell_type": "code",
      "source": [
        "model.compile(\n",
        "    optimizer = 'adam',\n",
        "    loss = 'binary_crossentropy',\n",
        "    metrics = ['accuracy']\n",
        ")"
      ],
      "metadata": {
        "id": "NfVu9yMRHxTQ"
      },
      "execution_count": 10,
      "outputs": []
    },
    {
      "cell_type": "code",
      "source": [
        "history = model.fit(x_train,y_train,epochs=5, batch_size=32,validation_split=0.2)"
      ],
      "metadata": {
        "colab": {
          "base_uri": "https://localhost:8080/"
        },
        "id": "HTk0geR6HuGN",
        "outputId": "4acf5e8c-89e4-4ee5-9e79-b62cbf56ae94"
      },
      "execution_count": 11,
      "outputs": [
        {
          "output_type": "stream",
          "name": "stdout",
          "text": [
            "Epoch 1/5\n",
            "625/625 [==============================] - 73s 108ms/step - loss: 0.5593 - accuracy: 0.6986 - val_loss: 0.4417 - val_accuracy: 0.8068\n",
            "Epoch 2/5\n",
            "625/625 [==============================] - 48s 76ms/step - loss: 0.3484 - accuracy: 0.8576 - val_loss: 0.3975 - val_accuracy: 0.8294\n",
            "Epoch 3/5\n",
            "625/625 [==============================] - 48s 76ms/step - loss: 0.2531 - accuracy: 0.9054 - val_loss: 0.3976 - val_accuracy: 0.8384\n",
            "Epoch 4/5\n",
            "625/625 [==============================] - 46s 74ms/step - loss: 0.1817 - accuracy: 0.9371 - val_loss: 0.4405 - val_accuracy: 0.8356\n",
            "Epoch 5/5\n",
            "625/625 [==============================] - 46s 73ms/step - loss: 0.1241 - accuracy: 0.9599 - val_loss: 0.4881 - val_accuracy: 0.8304\n"
          ]
        }
      ]
    }
  ]
}