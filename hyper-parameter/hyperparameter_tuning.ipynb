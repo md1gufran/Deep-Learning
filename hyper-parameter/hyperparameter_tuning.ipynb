{
  "nbformat": 4,
  "nbformat_minor": 0,
  "metadata": {
    "colab": {
      "provenance": []
    },
    "kernelspec": {
      "name": "python3",
      "display_name": "Python 3"
    },
    "language_info": {
      "name": "python"
    }
  },
  "cells": [
    {
      "cell_type": "code",
      "execution_count": 1,
      "metadata": {
        "id": "r0H-evu2A3LB"
      },
      "outputs": [],
      "source": [
        "import numpy as np\n",
        "import pandas as pd"
      ]
    },
    {
      "cell_type": "code",
      "source": [
        "df = pd.read_csv(\"pima.csv\")"
      ],
      "metadata": {
        "id": "6AIpXH-rBa6a"
      },
      "execution_count": 2,
      "outputs": []
    },
    {
      "cell_type": "code",
      "source": [
        "df.sample(2)"
      ],
      "metadata": {
        "colab": {
          "base_uri": "https://localhost:8080/",
          "height": 112
        },
        "id": "oVsgjPYpBde4",
        "outputId": "dd6727a2-5b72-4f11-b1a1-37cb2d1e790b"
      },
      "execution_count": 4,
      "outputs": [
        {
          "output_type": "execute_result",
          "data": {
            "text/plain": [
              "     6  148  72  35   0  33.6  0.627  50  1\n",
              "50   1  101  50  15  36  24.2  0.526  26  0\n",
              "471  0  119  66  27   0  38.8  0.259  22  0"
            ],
            "text/html": [
              "\n",
              "  <div id=\"df-d8039b72-f805-48f6-a2d5-8e8e500b942b\" class=\"colab-df-container\">\n",
              "    <div>\n",
              "<style scoped>\n",
              "    .dataframe tbody tr th:only-of-type {\n",
              "        vertical-align: middle;\n",
              "    }\n",
              "\n",
              "    .dataframe tbody tr th {\n",
              "        vertical-align: top;\n",
              "    }\n",
              "\n",
              "    .dataframe thead th {\n",
              "        text-align: right;\n",
              "    }\n",
              "</style>\n",
              "<table border=\"1\" class=\"dataframe\">\n",
              "  <thead>\n",
              "    <tr style=\"text-align: right;\">\n",
              "      <th></th>\n",
              "      <th>6</th>\n",
              "      <th>148</th>\n",
              "      <th>72</th>\n",
              "      <th>35</th>\n",
              "      <th>0</th>\n",
              "      <th>33.6</th>\n",
              "      <th>0.627</th>\n",
              "      <th>50</th>\n",
              "      <th>1</th>\n",
              "    </tr>\n",
              "  </thead>\n",
              "  <tbody>\n",
              "    <tr>\n",
              "      <th>50</th>\n",
              "      <td>1</td>\n",
              "      <td>101</td>\n",
              "      <td>50</td>\n",
              "      <td>15</td>\n",
              "      <td>36</td>\n",
              "      <td>24.2</td>\n",
              "      <td>0.526</td>\n",
              "      <td>26</td>\n",
              "      <td>0</td>\n",
              "    </tr>\n",
              "    <tr>\n",
              "      <th>471</th>\n",
              "      <td>0</td>\n",
              "      <td>119</td>\n",
              "      <td>66</td>\n",
              "      <td>27</td>\n",
              "      <td>0</td>\n",
              "      <td>38.8</td>\n",
              "      <td>0.259</td>\n",
              "      <td>22</td>\n",
              "      <td>0</td>\n",
              "    </tr>\n",
              "  </tbody>\n",
              "</table>\n",
              "</div>\n",
              "    <div class=\"colab-df-buttons\">\n",
              "\n",
              "  <div class=\"colab-df-container\">\n",
              "    <button class=\"colab-df-convert\" onclick=\"convertToInteractive('df-d8039b72-f805-48f6-a2d5-8e8e500b942b')\"\n",
              "            title=\"Convert this dataframe to an interactive table.\"\n",
              "            style=\"display:none;\">\n",
              "\n",
              "  <svg xmlns=\"http://www.w3.org/2000/svg\" height=\"24px\" viewBox=\"0 -960 960 960\">\n",
              "    <path d=\"M120-120v-720h720v720H120Zm60-500h600v-160H180v160Zm220 220h160v-160H400v160Zm0 220h160v-160H400v160ZM180-400h160v-160H180v160Zm440 0h160v-160H620v160ZM180-180h160v-160H180v160Zm440 0h160v-160H620v160Z\"/>\n",
              "  </svg>\n",
              "    </button>\n",
              "\n",
              "  <style>\n",
              "    .colab-df-container {\n",
              "      display:flex;\n",
              "      gap: 12px;\n",
              "    }\n",
              "\n",
              "    .colab-df-convert {\n",
              "      background-color: #E8F0FE;\n",
              "      border: none;\n",
              "      border-radius: 50%;\n",
              "      cursor: pointer;\n",
              "      display: none;\n",
              "      fill: #1967D2;\n",
              "      height: 32px;\n",
              "      padding: 0 0 0 0;\n",
              "      width: 32px;\n",
              "    }\n",
              "\n",
              "    .colab-df-convert:hover {\n",
              "      background-color: #E2EBFA;\n",
              "      box-shadow: 0px 1px 2px rgba(60, 64, 67, 0.3), 0px 1px 3px 1px rgba(60, 64, 67, 0.15);\n",
              "      fill: #174EA6;\n",
              "    }\n",
              "\n",
              "    .colab-df-buttons div {\n",
              "      margin-bottom: 4px;\n",
              "    }\n",
              "\n",
              "    [theme=dark] .colab-df-convert {\n",
              "      background-color: #3B4455;\n",
              "      fill: #D2E3FC;\n",
              "    }\n",
              "\n",
              "    [theme=dark] .colab-df-convert:hover {\n",
              "      background-color: #434B5C;\n",
              "      box-shadow: 0px 1px 3px 1px rgba(0, 0, 0, 0.15);\n",
              "      filter: drop-shadow(0px 1px 2px rgba(0, 0, 0, 0.3));\n",
              "      fill: #FFFFFF;\n",
              "    }\n",
              "  </style>\n",
              "\n",
              "    <script>\n",
              "      const buttonEl =\n",
              "        document.querySelector('#df-d8039b72-f805-48f6-a2d5-8e8e500b942b button.colab-df-convert');\n",
              "      buttonEl.style.display =\n",
              "        google.colab.kernel.accessAllowed ? 'block' : 'none';\n",
              "\n",
              "      async function convertToInteractive(key) {\n",
              "        const element = document.querySelector('#df-d8039b72-f805-48f6-a2d5-8e8e500b942b');\n",
              "        const dataTable =\n",
              "          await google.colab.kernel.invokeFunction('convertToInteractive',\n",
              "                                                    [key], {});\n",
              "        if (!dataTable) return;\n",
              "\n",
              "        const docLinkHtml = 'Like what you see? Visit the ' +\n",
              "          '<a target=\"_blank\" href=https://colab.research.google.com/notebooks/data_table.ipynb>data table notebook</a>'\n",
              "          + ' to learn more about interactive tables.';\n",
              "        element.innerHTML = '';\n",
              "        dataTable['output_type'] = 'display_data';\n",
              "        await google.colab.output.renderOutput(dataTable, element);\n",
              "        const docLink = document.createElement('div');\n",
              "        docLink.innerHTML = docLinkHtml;\n",
              "        element.appendChild(docLink);\n",
              "      }\n",
              "    </script>\n",
              "  </div>\n",
              "\n",
              "\n",
              "<div id=\"df-e26bfe30-2b7a-4b60-a0b3-1f7bcc18c163\">\n",
              "  <button class=\"colab-df-quickchart\" onclick=\"quickchart('df-e26bfe30-2b7a-4b60-a0b3-1f7bcc18c163')\"\n",
              "            title=\"Suggest charts\"\n",
              "            style=\"display:none;\">\n",
              "\n",
              "<svg xmlns=\"http://www.w3.org/2000/svg\" height=\"24px\"viewBox=\"0 0 24 24\"\n",
              "     width=\"24px\">\n",
              "    <g>\n",
              "        <path d=\"M19 3H5c-1.1 0-2 .9-2 2v14c0 1.1.9 2 2 2h14c1.1 0 2-.9 2-2V5c0-1.1-.9-2-2-2zM9 17H7v-7h2v7zm4 0h-2V7h2v10zm4 0h-2v-4h2v4z\"/>\n",
              "    </g>\n",
              "</svg>\n",
              "  </button>\n",
              "\n",
              "<style>\n",
              "  .colab-df-quickchart {\n",
              "      --bg-color: #E8F0FE;\n",
              "      --fill-color: #1967D2;\n",
              "      --hover-bg-color: #E2EBFA;\n",
              "      --hover-fill-color: #174EA6;\n",
              "      --disabled-fill-color: #AAA;\n",
              "      --disabled-bg-color: #DDD;\n",
              "  }\n",
              "\n",
              "  [theme=dark] .colab-df-quickchart {\n",
              "      --bg-color: #3B4455;\n",
              "      --fill-color: #D2E3FC;\n",
              "      --hover-bg-color: #434B5C;\n",
              "      --hover-fill-color: #FFFFFF;\n",
              "      --disabled-bg-color: #3B4455;\n",
              "      --disabled-fill-color: #666;\n",
              "  }\n",
              "\n",
              "  .colab-df-quickchart {\n",
              "    background-color: var(--bg-color);\n",
              "    border: none;\n",
              "    border-radius: 50%;\n",
              "    cursor: pointer;\n",
              "    display: none;\n",
              "    fill: var(--fill-color);\n",
              "    height: 32px;\n",
              "    padding: 0;\n",
              "    width: 32px;\n",
              "  }\n",
              "\n",
              "  .colab-df-quickchart:hover {\n",
              "    background-color: var(--hover-bg-color);\n",
              "    box-shadow: 0 1px 2px rgba(60, 64, 67, 0.3), 0 1px 3px 1px rgba(60, 64, 67, 0.15);\n",
              "    fill: var(--button-hover-fill-color);\n",
              "  }\n",
              "\n",
              "  .colab-df-quickchart-complete:disabled,\n",
              "  .colab-df-quickchart-complete:disabled:hover {\n",
              "    background-color: var(--disabled-bg-color);\n",
              "    fill: var(--disabled-fill-color);\n",
              "    box-shadow: none;\n",
              "  }\n",
              "\n",
              "  .colab-df-spinner {\n",
              "    border: 2px solid var(--fill-color);\n",
              "    border-color: transparent;\n",
              "    border-bottom-color: var(--fill-color);\n",
              "    animation:\n",
              "      spin 1s steps(1) infinite;\n",
              "  }\n",
              "\n",
              "  @keyframes spin {\n",
              "    0% {\n",
              "      border-color: transparent;\n",
              "      border-bottom-color: var(--fill-color);\n",
              "      border-left-color: var(--fill-color);\n",
              "    }\n",
              "    20% {\n",
              "      border-color: transparent;\n",
              "      border-left-color: var(--fill-color);\n",
              "      border-top-color: var(--fill-color);\n",
              "    }\n",
              "    30% {\n",
              "      border-color: transparent;\n",
              "      border-left-color: var(--fill-color);\n",
              "      border-top-color: var(--fill-color);\n",
              "      border-right-color: var(--fill-color);\n",
              "    }\n",
              "    40% {\n",
              "      border-color: transparent;\n",
              "      border-right-color: var(--fill-color);\n",
              "      border-top-color: var(--fill-color);\n",
              "    }\n",
              "    60% {\n",
              "      border-color: transparent;\n",
              "      border-right-color: var(--fill-color);\n",
              "    }\n",
              "    80% {\n",
              "      border-color: transparent;\n",
              "      border-right-color: var(--fill-color);\n",
              "      border-bottom-color: var(--fill-color);\n",
              "    }\n",
              "    90% {\n",
              "      border-color: transparent;\n",
              "      border-bottom-color: var(--fill-color);\n",
              "    }\n",
              "  }\n",
              "</style>\n",
              "\n",
              "  <script>\n",
              "    async function quickchart(key) {\n",
              "      const quickchartButtonEl =\n",
              "        document.querySelector('#' + key + ' button');\n",
              "      quickchartButtonEl.disabled = true;  // To prevent multiple clicks.\n",
              "      quickchartButtonEl.classList.add('colab-df-spinner');\n",
              "      try {\n",
              "        const charts = await google.colab.kernel.invokeFunction(\n",
              "            'suggestCharts', [key], {});\n",
              "      } catch (error) {\n",
              "        console.error('Error during call to suggestCharts:', error);\n",
              "      }\n",
              "      quickchartButtonEl.classList.remove('colab-df-spinner');\n",
              "      quickchartButtonEl.classList.add('colab-df-quickchart-complete');\n",
              "    }\n",
              "    (() => {\n",
              "      let quickchartButtonEl =\n",
              "        document.querySelector('#df-e26bfe30-2b7a-4b60-a0b3-1f7bcc18c163 button');\n",
              "      quickchartButtonEl.style.display =\n",
              "        google.colab.kernel.accessAllowed ? 'block' : 'none';\n",
              "    })();\n",
              "  </script>\n",
              "</div>\n",
              "    </div>\n",
              "  </div>\n"
            ],
            "application/vnd.google.colaboratory.intrinsic+json": {
              "type": "dataframe",
              "summary": "{\n  \"name\": \"df\",\n  \"rows\": 2,\n  \"fields\": [\n    {\n      \"column\": \"6\",\n      \"properties\": {\n        \"dtype\": \"number\",\n        \"std\": 0,\n        \"min\": 0,\n        \"max\": 1,\n        \"num_unique_values\": 2,\n        \"samples\": [\n          0,\n          1\n        ],\n        \"semantic_type\": \"\",\n        \"description\": \"\"\n      }\n    },\n    {\n      \"column\": \"148\",\n      \"properties\": {\n        \"dtype\": \"number\",\n        \"std\": 12,\n        \"min\": 101,\n        \"max\": 119,\n        \"num_unique_values\": 2,\n        \"samples\": [\n          119,\n          101\n        ],\n        \"semantic_type\": \"\",\n        \"description\": \"\"\n      }\n    },\n    {\n      \"column\": \"72\",\n      \"properties\": {\n        \"dtype\": \"number\",\n        \"std\": 11,\n        \"min\": 50,\n        \"max\": 66,\n        \"num_unique_values\": 2,\n        \"samples\": [\n          66,\n          50\n        ],\n        \"semantic_type\": \"\",\n        \"description\": \"\"\n      }\n    },\n    {\n      \"column\": \"35\",\n      \"properties\": {\n        \"dtype\": \"number\",\n        \"std\": 8,\n        \"min\": 15,\n        \"max\": 27,\n        \"num_unique_values\": 2,\n        \"samples\": [\n          27,\n          15\n        ],\n        \"semantic_type\": \"\",\n        \"description\": \"\"\n      }\n    },\n    {\n      \"column\": \"0\",\n      \"properties\": {\n        \"dtype\": \"number\",\n        \"std\": 25,\n        \"min\": 0,\n        \"max\": 36,\n        \"num_unique_values\": 2,\n        \"samples\": [\n          0,\n          36\n        ],\n        \"semantic_type\": \"\",\n        \"description\": \"\"\n      }\n    },\n    {\n      \"column\": \"33.6\",\n      \"properties\": {\n        \"dtype\": \"number\",\n        \"std\": 10.323759005323593,\n        \"min\": 24.2,\n        \"max\": 38.8,\n        \"num_unique_values\": 2,\n        \"samples\": [\n          38.8,\n          24.2\n        ],\n        \"semantic_type\": \"\",\n        \"description\": \"\"\n      }\n    },\n    {\n      \"column\": \"0.627\",\n      \"properties\": {\n        \"dtype\": \"number\",\n        \"std\": 0.1887975105768082,\n        \"min\": 0.259,\n        \"max\": 0.526,\n        \"num_unique_values\": 2,\n        \"samples\": [\n          0.259,\n          0.526\n        ],\n        \"semantic_type\": \"\",\n        \"description\": \"\"\n      }\n    },\n    {\n      \"column\": \"50\",\n      \"properties\": {\n        \"dtype\": \"number\",\n        \"std\": 2,\n        \"min\": 22,\n        \"max\": 26,\n        \"num_unique_values\": 2,\n        \"samples\": [\n          22,\n          26\n        ],\n        \"semantic_type\": \"\",\n        \"description\": \"\"\n      }\n    },\n    {\n      \"column\": \"1\",\n      \"properties\": {\n        \"dtype\": \"number\",\n        \"std\": 0,\n        \"min\": 0,\n        \"max\": 0,\n        \"num_unique_values\": 1,\n        \"samples\": [\n          0\n        ],\n        \"semantic_type\": \"\",\n        \"description\": \"\"\n      }\n    }\n  ]\n}"
            }
          },
          "metadata": {},
          "execution_count": 4
        }
      ]
    },
    {
      "cell_type": "code",
      "source": [
        "df.column"
      ],
      "metadata": {
        "colab": {
          "base_uri": "https://localhost:8080/"
        },
        "id": "muGsfgAlCTw4",
        "outputId": "c6dbd6c4-6201-447e-915b-0369cf1633ec"
      },
      "execution_count": 6,
      "outputs": [
        {
          "output_type": "execute_result",
          "data": {
            "text/plain": [
              "Index(['6', '148', '72', '35', '0', '33.6', '0.627', '50', '1'], dtype='object')"
            ]
          },
          "metadata": {},
          "execution_count": 6
        }
      ]
    },
    {
      "cell_type": "code",
      "source": [
        "df.corr()['1']"
      ],
      "metadata": {
        "colab": {
          "base_uri": "https://localhost:8080/"
        },
        "id": "ydgo2GbOCNdJ",
        "outputId": "738a6ea0-df86-44e5-c9fa-a42bffe98f5d"
      },
      "execution_count": 7,
      "outputs": [
        {
          "output_type": "execute_result",
          "data": {
            "text/plain": [
              "6        0.221087\n",
              "148      0.465856\n",
              "72       0.064882\n",
              "35       0.073265\n",
              "0        0.131984\n",
              "33.6     0.292695\n",
              "0.627    0.173245\n",
              "50       0.236417\n",
              "1        1.000000\n",
              "Name: 1, dtype: float64"
            ]
          },
          "metadata": {},
          "execution_count": 7
        }
      ]
    },
    {
      "cell_type": "code",
      "source": [
        "x = df.iloc[:,:-1].values\n",
        "y = df.iloc[:,-1].values"
      ],
      "metadata": {
        "id": "gXN_wvLRCnpw"
      },
      "execution_count": 8,
      "outputs": []
    },
    {
      "cell_type": "code",
      "source": [
        "from sklearn import preprocessing\n",
        "scaler = preprocessing.MinMaxScaler()"
      ],
      "metadata": {
        "id": "8Gu_g98ZC2zX"
      },
      "execution_count": 9,
      "outputs": []
    },
    {
      "cell_type": "code",
      "source": [
        "x = scaler.fit_transform(x)"
      ],
      "metadata": {
        "id": "PqNc4vBiC9-3"
      },
      "execution_count": 10,
      "outputs": []
    },
    {
      "cell_type": "code",
      "source": [
        "from sklearn.model_selection import train_test_split\n",
        "x_train,x_test,y_train,y_test = train_test_split(x,y,test_size=0.2,random_state=42)"
      ],
      "metadata": {
        "id": "1iviSSE-DC92"
      },
      "execution_count": 11,
      "outputs": []
    },
    {
      "cell_type": "code",
      "source": [
        "x.shape"
      ],
      "metadata": {
        "colab": {
          "base_uri": "https://localhost:8080/"
        },
        "id": "jVIMqS_lDPsW",
        "outputId": "9e76654c-f682-4f5a-cdb7-1b9fef321349"
      },
      "execution_count": 12,
      "outputs": [
        {
          "output_type": "execute_result",
          "data": {
            "text/plain": [
              "(767, 8)"
            ]
          },
          "metadata": {},
          "execution_count": 12
        }
      ]
    },
    {
      "cell_type": "code",
      "source": [
        "import tensorflow as tf\n",
        "from tensorflow import keras"
      ],
      "metadata": {
        "id": "8Wx7eRWQDh6I"
      },
      "execution_count": 13,
      "outputs": []
    },
    {
      "cell_type": "code",
      "source": [
        "model = keras.Sequential([\n",
        "    keras.layers.Dense(32,input_shape=(8,),activation=\"relu\"),\n",
        "    keras.layers.Dense(1,activation=\"sigmoid\"),\n",
        "])\n",
        "model.compile(\n",
        "    optimizer = \"adam\",\n",
        "    loss = \"binary_crossentropy\",\n",
        "    metrics = ['accuracy']\n",
        ")\n",
        "model.fit(x_train,y_train,epochs=10,batch_size=32,validation_data=(x_test,y_test))"
      ],
      "metadata": {
        "colab": {
          "base_uri": "https://localhost:8080/"
        },
        "id": "C_jS9FMvDl4F",
        "outputId": "a75f6b16-cf64-4bfc-ec00-652596572b26"
      },
      "execution_count": 15,
      "outputs": [
        {
          "output_type": "stream",
          "name": "stdout",
          "text": [
            "Epoch 1/10\n",
            "20/20 [==============================] - 1s 10ms/step - loss: 0.6923 - accuracy: 0.5139 - val_loss: 0.6791 - val_accuracy: 0.6299\n",
            "Epoch 2/10\n",
            "20/20 [==============================] - 0s 3ms/step - loss: 0.6741 - accuracy: 0.6476 - val_loss: 0.6671 - val_accuracy: 0.6299\n",
            "Epoch 3/10\n",
            "20/20 [==============================] - 0s 3ms/step - loss: 0.6616 - accuracy: 0.6574 - val_loss: 0.6602 - val_accuracy: 0.6299\n",
            "Epoch 4/10\n",
            "20/20 [==============================] - 0s 3ms/step - loss: 0.6552 - accuracy: 0.6574 - val_loss: 0.6562 - val_accuracy: 0.6299\n",
            "Epoch 5/10\n",
            "20/20 [==============================] - 0s 2ms/step - loss: 0.6498 - accuracy: 0.6574 - val_loss: 0.6529 - val_accuracy: 0.6299\n",
            "Epoch 6/10\n",
            "20/20 [==============================] - 0s 2ms/step - loss: 0.6454 - accuracy: 0.6574 - val_loss: 0.6503 - val_accuracy: 0.6299\n",
            "Epoch 7/10\n",
            "20/20 [==============================] - 0s 3ms/step - loss: 0.6433 - accuracy: 0.6574 - val_loss: 0.6482 - val_accuracy: 0.6299\n",
            "Epoch 8/10\n",
            "20/20 [==============================] - 0s 2ms/step - loss: 0.6390 - accuracy: 0.6574 - val_loss: 0.6449 - val_accuracy: 0.6299\n",
            "Epoch 9/10\n",
            "20/20 [==============================] - 0s 3ms/step - loss: 0.6365 - accuracy: 0.6574 - val_loss: 0.6420 - val_accuracy: 0.6299\n",
            "Epoch 10/10\n",
            "20/20 [==============================] - 0s 3ms/step - loss: 0.6328 - accuracy: 0.6574 - val_loss: 0.6396 - val_accuracy: 0.6299\n"
          ]
        },
        {
          "output_type": "execute_result",
          "data": {
            "text/plain": [
              "<keras.src.callbacks.History at 0x7d6d49082a70>"
            ]
          },
          "metadata": {},
          "execution_count": 15
        }
      ]
    },
    {
      "cell_type": "markdown",
      "source": [
        "How to select Optimizer\n",
        "Number of Nodes\n",
        "Number of layers"
      ],
      "metadata": {
        "id": "7HqbsgFIEtDf"
      }
    },
    {
      "cell_type": "code",
      "source": [
        "!pip install keras_tuner\n",
        "import keras_tuner as kt"
      ],
      "metadata": {
        "colab": {
          "base_uri": "https://localhost:8080/"
        },
        "id": "Hutq3CM8Ez7N",
        "outputId": "27bcabc3-4dcc-4563-a73f-7b04854a21b1"
      },
      "execution_count": 17,
      "outputs": [
        {
          "output_type": "stream",
          "name": "stdout",
          "text": [
            "Collecting keras_tuner\n",
            "  Downloading keras_tuner-1.4.6-py3-none-any.whl (128 kB)\n",
            "\u001b[?25l     \u001b[90m━━━━━━━━━━━━━━━━━━━━━━━━━━━━━━━━━━━━━━━━\u001b[0m \u001b[32m0.0/128.9 kB\u001b[0m \u001b[31m?\u001b[0m eta \u001b[36m-:--:--\u001b[0m\r\u001b[2K     \u001b[91m━━━━━━━━━\u001b[0m\u001b[91m╸\u001b[0m\u001b[90m━━━━━━━━━━━━━━━━━━━━━━━━━━━━━━\u001b[0m \u001b[32m30.7/128.9 kB\u001b[0m \u001b[31m1.5 MB/s\u001b[0m eta \u001b[36m0:00:01\u001b[0m\r\u001b[2K     \u001b[91m━━━━━━━━━━━━━━━━━━━━━━━━━━━━\u001b[0m\u001b[91m╸\u001b[0m\u001b[90m━━━━━━━━━━━\u001b[0m \u001b[32m92.2/128.9 kB\u001b[0m \u001b[31m1.5 MB/s\u001b[0m eta \u001b[36m0:00:01\u001b[0m\r\u001b[2K     \u001b[90m━━━━━━━━━━━━━━━━━━━━━━━━━━━━━━━━━━━━━━━━\u001b[0m \u001b[32m128.9/128.9 kB\u001b[0m \u001b[31m1.5 MB/s\u001b[0m eta \u001b[36m0:00:00\u001b[0m\n",
            "\u001b[?25hRequirement already satisfied: keras in /usr/local/lib/python3.10/dist-packages (from keras_tuner) (2.15.0)\n",
            "Requirement already satisfied: packaging in /usr/local/lib/python3.10/dist-packages (from keras_tuner) (23.2)\n",
            "Requirement already satisfied: requests in /usr/local/lib/python3.10/dist-packages (from keras_tuner) (2.31.0)\n",
            "Collecting kt-legacy (from keras_tuner)\n",
            "  Downloading kt_legacy-1.0.5-py3-none-any.whl (9.6 kB)\n",
            "Requirement already satisfied: charset-normalizer<4,>=2 in /usr/local/lib/python3.10/dist-packages (from requests->keras_tuner) (3.3.2)\n",
            "Requirement already satisfied: idna<4,>=2.5 in /usr/local/lib/python3.10/dist-packages (from requests->keras_tuner) (3.6)\n",
            "Requirement already satisfied: urllib3<3,>=1.21.1 in /usr/local/lib/python3.10/dist-packages (from requests->keras_tuner) (2.0.7)\n",
            "Requirement already satisfied: certifi>=2017.4.17 in /usr/local/lib/python3.10/dist-packages (from requests->keras_tuner) (2024.2.2)\n",
            "Installing collected packages: kt-legacy, keras_tuner\n",
            "Successfully installed keras_tuner-1.4.6 kt-legacy-1.0.5\n"
          ]
        }
      ]
    },
    {
      "cell_type": "code",
      "source": [
        "def build_model(hp):\n",
        "  model = keras.Sequential([\n",
        "      keras.layers.Dense(32,input_shape=(8,),activation=\"relu\"),\n",
        "      keras.layers.Dense(1,activation=\"sigmoid\")\n",
        "  ])\n",
        "  model.compile(\n",
        "      optimizer = hp.Choice('optimizer',values=['adam','SGD','RMSprop','Adadelta','Adagrad','Nadam']),\n",
        "      loss = 'binary_crossentropy',\n",
        "      metrics = ['accuracy']\n",
        "  )\n",
        "  return model"
      ],
      "metadata": {
        "id": "nmOfwtS0FCTJ"
      },
      "execution_count": 22,
      "outputs": []
    },
    {
      "cell_type": "code",
      "source": [
        "tuner = kt.RandomSearch(\n",
        "    build_model,\n",
        "    objective='val_accuracy',\n",
        "    max_trials=5)"
      ],
      "metadata": {
        "id": "7pIG0qU7Gmjj"
      },
      "execution_count": 23,
      "outputs": []
    },
    {
      "cell_type": "code",
      "source": [
        "tuner.search(x_train,y_train,epochs=5,validation_data=(x_test,y_test))"
      ],
      "metadata": {
        "colab": {
          "base_uri": "https://localhost:8080/"
        },
        "id": "61D1N4pKG38e",
        "outputId": "a856a329-8f78-4e6b-96ad-15084aba7c46"
      },
      "execution_count": 25,
      "outputs": [
        {
          "output_type": "stream",
          "name": "stdout",
          "text": [
            "Trial 5 Complete [00h 00m 02s]\n",
            "val_accuracy: 0.37012988328933716\n",
            "\n",
            "Best val_accuracy So Far: 0.6363636255264282\n",
            "Total elapsed time: 00h 00m 07s\n"
          ]
        }
      ]
    },
    {
      "cell_type": "code",
      "source": [
        "tuner.get_best_hyperparameters()[0].values"
      ],
      "metadata": {
        "colab": {
          "base_uri": "https://localhost:8080/"
        },
        "id": "DlVjVijdINwk",
        "outputId": "f39c1c0f-e980-46a7-f49d-7827ecaa5072"
      },
      "execution_count": 26,
      "outputs": [
        {
          "output_type": "execute_result",
          "data": {
            "text/plain": [
              "{'optimizer': 'SGD'}"
            ]
          },
          "metadata": {},
          "execution_count": 26
        }
      ]
    },
    {
      "cell_type": "code",
      "source": [
        "model = tuner.get_best_models(num_models=1)[0]"
      ],
      "metadata": {
        "id": "QzXHXR8UIW6D"
      },
      "execution_count": 28,
      "outputs": []
    },
    {
      "cell_type": "code",
      "source": [
        "model.summary()"
      ],
      "metadata": {
        "colab": {
          "base_uri": "https://localhost:8080/"
        },
        "id": "4zEf9KWQIn8q",
        "outputId": "d3e6020c-fc2f-44d8-9ed0-63a11eea29a4"
      },
      "execution_count": 29,
      "outputs": [
        {
          "output_type": "stream",
          "name": "stdout",
          "text": [
            "Model: \"sequential\"\n",
            "_________________________________________________________________\n",
            " Layer (type)                Output Shape              Param #   \n",
            "=================================================================\n",
            " dense (Dense)               (None, 32)                288       \n",
            "                                                                 \n",
            " dense_1 (Dense)             (None, 1)                 33        \n",
            "                                                                 \n",
            "=================================================================\n",
            "Total params: 321 (1.25 KB)\n",
            "Trainable params: 321 (1.25 KB)\n",
            "Non-trainable params: 0 (0.00 Byte)\n",
            "_________________________________________________________________\n"
          ]
        }
      ]
    },
    {
      "cell_type": "code",
      "source": [
        "model.fit(x_train,y_train,epochs=100,initial_epoch=6,batch_size=32,validation_data=(x_test,y_test))"
      ],
      "metadata": {
        "colab": {
          "base_uri": "https://localhost:8080/"
        },
        "id": "W8eIGwAGIvPJ",
        "outputId": "52d64ad4-ad25-4202-91c9-b1e4bc389d25"
      },
      "execution_count": 32,
      "outputs": [
        {
          "output_type": "stream",
          "name": "stdout",
          "text": [
            "Epoch 7/100\n",
            "20/20 [==============================] - 0s 8ms/step - loss: 0.6713 - accuracy: 0.6542 - val_loss: 0.6855 - val_accuracy: 0.6364\n",
            "Epoch 8/100\n",
            "20/20 [==============================] - 0s 2ms/step - loss: 0.6671 - accuracy: 0.6558 - val_loss: 0.6829 - val_accuracy: 0.6364\n",
            "Epoch 9/100\n",
            "20/20 [==============================] - 0s 3ms/step - loss: 0.6639 - accuracy: 0.6574 - val_loss: 0.6813 - val_accuracy: 0.6299\n",
            "Epoch 10/100\n",
            "20/20 [==============================] - 0s 3ms/step - loss: 0.6619 - accuracy: 0.6574 - val_loss: 0.6798 - val_accuracy: 0.6299\n",
            "Epoch 11/100\n",
            "20/20 [==============================] - 0s 2ms/step - loss: 0.6599 - accuracy: 0.6574 - val_loss: 0.6788 - val_accuracy: 0.6299\n",
            "Epoch 12/100\n",
            "20/20 [==============================] - 0s 3ms/step - loss: 0.6585 - accuracy: 0.6574 - val_loss: 0.6779 - val_accuracy: 0.6299\n",
            "Epoch 13/100\n",
            "20/20 [==============================] - 0s 3ms/step - loss: 0.6572 - accuracy: 0.6574 - val_loss: 0.6769 - val_accuracy: 0.6299\n",
            "Epoch 14/100\n",
            "20/20 [==============================] - 0s 2ms/step - loss: 0.6560 - accuracy: 0.6574 - val_loss: 0.6758 - val_accuracy: 0.6299\n",
            "Epoch 15/100\n",
            "20/20 [==============================] - 0s 3ms/step - loss: 0.6550 - accuracy: 0.6574 - val_loss: 0.6749 - val_accuracy: 0.6299\n",
            "Epoch 16/100\n",
            "20/20 [==============================] - 0s 3ms/step - loss: 0.6538 - accuracy: 0.6574 - val_loss: 0.6739 - val_accuracy: 0.6299\n",
            "Epoch 17/100\n",
            "20/20 [==============================] - 0s 3ms/step - loss: 0.6528 - accuracy: 0.6574 - val_loss: 0.6728 - val_accuracy: 0.6299\n",
            "Epoch 18/100\n",
            "20/20 [==============================] - 0s 3ms/step - loss: 0.6518 - accuracy: 0.6574 - val_loss: 0.6718 - val_accuracy: 0.6299\n",
            "Epoch 19/100\n",
            "20/20 [==============================] - 0s 3ms/step - loss: 0.6510 - accuracy: 0.6574 - val_loss: 0.6709 - val_accuracy: 0.6299\n",
            "Epoch 20/100\n",
            "20/20 [==============================] - 0s 2ms/step - loss: 0.6500 - accuracy: 0.6574 - val_loss: 0.6699 - val_accuracy: 0.6299\n",
            "Epoch 21/100\n",
            "20/20 [==============================] - 0s 3ms/step - loss: 0.6491 - accuracy: 0.6574 - val_loss: 0.6688 - val_accuracy: 0.6299\n",
            "Epoch 22/100\n",
            "20/20 [==============================] - 0s 3ms/step - loss: 0.6480 - accuracy: 0.6574 - val_loss: 0.6679 - val_accuracy: 0.6299\n",
            "Epoch 23/100\n",
            "20/20 [==============================] - 0s 2ms/step - loss: 0.6472 - accuracy: 0.6574 - val_loss: 0.6670 - val_accuracy: 0.6299\n",
            "Epoch 24/100\n",
            "20/20 [==============================] - 0s 2ms/step - loss: 0.6465 - accuracy: 0.6574 - val_loss: 0.6663 - val_accuracy: 0.6299\n",
            "Epoch 25/100\n",
            "20/20 [==============================] - 0s 3ms/step - loss: 0.6457 - accuracy: 0.6574 - val_loss: 0.6655 - val_accuracy: 0.6299\n",
            "Epoch 26/100\n",
            "20/20 [==============================] - 0s 2ms/step - loss: 0.6451 - accuracy: 0.6574 - val_loss: 0.6649 - val_accuracy: 0.6299\n",
            "Epoch 27/100\n",
            "20/20 [==============================] - 0s 2ms/step - loss: 0.6443 - accuracy: 0.6574 - val_loss: 0.6642 - val_accuracy: 0.6299\n",
            "Epoch 28/100\n",
            "20/20 [==============================] - 0s 2ms/step - loss: 0.6434 - accuracy: 0.6574 - val_loss: 0.6633 - val_accuracy: 0.6299\n",
            "Epoch 29/100\n",
            "20/20 [==============================] - 0s 2ms/step - loss: 0.6426 - accuracy: 0.6574 - val_loss: 0.6627 - val_accuracy: 0.6299\n",
            "Epoch 30/100\n",
            "20/20 [==============================] - 0s 3ms/step - loss: 0.6419 - accuracy: 0.6574 - val_loss: 0.6619 - val_accuracy: 0.6299\n",
            "Epoch 31/100\n",
            "20/20 [==============================] - 0s 2ms/step - loss: 0.6411 - accuracy: 0.6574 - val_loss: 0.6614 - val_accuracy: 0.6299\n",
            "Epoch 32/100\n",
            "20/20 [==============================] - 0s 2ms/step - loss: 0.6404 - accuracy: 0.6574 - val_loss: 0.6609 - val_accuracy: 0.6299\n",
            "Epoch 33/100\n",
            "20/20 [==============================] - 0s 3ms/step - loss: 0.6398 - accuracy: 0.6574 - val_loss: 0.6598 - val_accuracy: 0.6299\n",
            "Epoch 34/100\n",
            "20/20 [==============================] - 0s 2ms/step - loss: 0.6389 - accuracy: 0.6574 - val_loss: 0.6590 - val_accuracy: 0.6299\n",
            "Epoch 35/100\n",
            "20/20 [==============================] - 0s 3ms/step - loss: 0.6383 - accuracy: 0.6574 - val_loss: 0.6583 - val_accuracy: 0.6299\n",
            "Epoch 36/100\n",
            "20/20 [==============================] - 0s 2ms/step - loss: 0.6375 - accuracy: 0.6574 - val_loss: 0.6577 - val_accuracy: 0.6299\n",
            "Epoch 37/100\n",
            "20/20 [==============================] - 0s 2ms/step - loss: 0.6370 - accuracy: 0.6574 - val_loss: 0.6571 - val_accuracy: 0.6299\n",
            "Epoch 38/100\n",
            "20/20 [==============================] - 0s 3ms/step - loss: 0.6363 - accuracy: 0.6574 - val_loss: 0.6563 - val_accuracy: 0.6299\n",
            "Epoch 39/100\n",
            "20/20 [==============================] - 0s 2ms/step - loss: 0.6355 - accuracy: 0.6574 - val_loss: 0.6552 - val_accuracy: 0.6299\n",
            "Epoch 40/100\n",
            "20/20 [==============================] - 0s 3ms/step - loss: 0.6348 - accuracy: 0.6574 - val_loss: 0.6545 - val_accuracy: 0.6299\n",
            "Epoch 41/100\n",
            "20/20 [==============================] - 0s 2ms/step - loss: 0.6342 - accuracy: 0.6574 - val_loss: 0.6538 - val_accuracy: 0.6299\n",
            "Epoch 42/100\n",
            "20/20 [==============================] - 0s 3ms/step - loss: 0.6334 - accuracy: 0.6574 - val_loss: 0.6532 - val_accuracy: 0.6299\n",
            "Epoch 43/100\n",
            "20/20 [==============================] - 0s 2ms/step - loss: 0.6328 - accuracy: 0.6574 - val_loss: 0.6526 - val_accuracy: 0.6299\n",
            "Epoch 44/100\n",
            "20/20 [==============================] - 0s 3ms/step - loss: 0.6321 - accuracy: 0.6574 - val_loss: 0.6520 - val_accuracy: 0.6299\n",
            "Epoch 45/100\n",
            "20/20 [==============================] - 0s 2ms/step - loss: 0.6315 - accuracy: 0.6574 - val_loss: 0.6513 - val_accuracy: 0.6299\n",
            "Epoch 46/100\n",
            "20/20 [==============================] - 0s 3ms/step - loss: 0.6308 - accuracy: 0.6574 - val_loss: 0.6503 - val_accuracy: 0.6364\n",
            "Epoch 47/100\n",
            "20/20 [==============================] - 0s 3ms/step - loss: 0.6302 - accuracy: 0.6574 - val_loss: 0.6495 - val_accuracy: 0.6364\n",
            "Epoch 48/100\n",
            "20/20 [==============================] - 0s 3ms/step - loss: 0.6297 - accuracy: 0.6574 - val_loss: 0.6489 - val_accuracy: 0.6364\n",
            "Epoch 49/100\n",
            "20/20 [==============================] - 0s 3ms/step - loss: 0.6288 - accuracy: 0.6574 - val_loss: 0.6482 - val_accuracy: 0.6364\n",
            "Epoch 50/100\n",
            "20/20 [==============================] - 0s 3ms/step - loss: 0.6281 - accuracy: 0.6574 - val_loss: 0.6478 - val_accuracy: 0.6364\n",
            "Epoch 51/100\n",
            "20/20 [==============================] - 0s 2ms/step - loss: 0.6273 - accuracy: 0.6574 - val_loss: 0.6473 - val_accuracy: 0.6364\n",
            "Epoch 52/100\n",
            "20/20 [==============================] - 0s 2ms/step - loss: 0.6268 - accuracy: 0.6574 - val_loss: 0.6466 - val_accuracy: 0.6364\n",
            "Epoch 53/100\n",
            "20/20 [==============================] - 0s 2ms/step - loss: 0.6262 - accuracy: 0.6574 - val_loss: 0.6459 - val_accuracy: 0.6364\n",
            "Epoch 54/100\n",
            "20/20 [==============================] - 0s 3ms/step - loss: 0.6254 - accuracy: 0.6574 - val_loss: 0.6454 - val_accuracy: 0.6364\n",
            "Epoch 55/100\n",
            "20/20 [==============================] - 0s 2ms/step - loss: 0.6248 - accuracy: 0.6574 - val_loss: 0.6448 - val_accuracy: 0.6364\n",
            "Epoch 56/100\n",
            "20/20 [==============================] - 0s 2ms/step - loss: 0.6242 - accuracy: 0.6574 - val_loss: 0.6441 - val_accuracy: 0.6364\n",
            "Epoch 57/100\n",
            "20/20 [==============================] - 0s 3ms/step - loss: 0.6237 - accuracy: 0.6574 - val_loss: 0.6434 - val_accuracy: 0.6364\n",
            "Epoch 58/100\n",
            "20/20 [==============================] - 0s 3ms/step - loss: 0.6229 - accuracy: 0.6574 - val_loss: 0.6429 - val_accuracy: 0.6364\n",
            "Epoch 59/100\n",
            "20/20 [==============================] - 0s 2ms/step - loss: 0.6223 - accuracy: 0.6574 - val_loss: 0.6424 - val_accuracy: 0.6364\n",
            "Epoch 60/100\n",
            "20/20 [==============================] - 0s 2ms/step - loss: 0.6216 - accuracy: 0.6574 - val_loss: 0.6417 - val_accuracy: 0.6364\n",
            "Epoch 61/100\n",
            "20/20 [==============================] - 0s 3ms/step - loss: 0.6210 - accuracy: 0.6574 - val_loss: 0.6410 - val_accuracy: 0.6364\n",
            "Epoch 62/100\n",
            "20/20 [==============================] - 0s 2ms/step - loss: 0.6203 - accuracy: 0.6574 - val_loss: 0.6404 - val_accuracy: 0.6364\n",
            "Epoch 63/100\n",
            "20/20 [==============================] - 0s 2ms/step - loss: 0.6198 - accuracy: 0.6574 - val_loss: 0.6396 - val_accuracy: 0.6364\n",
            "Epoch 64/100\n",
            "20/20 [==============================] - 0s 2ms/step - loss: 0.6192 - accuracy: 0.6574 - val_loss: 0.6391 - val_accuracy: 0.6364\n",
            "Epoch 65/100\n",
            "20/20 [==============================] - 0s 2ms/step - loss: 0.6185 - accuracy: 0.6574 - val_loss: 0.6384 - val_accuracy: 0.6364\n",
            "Epoch 66/100\n",
            "20/20 [==============================] - 0s 2ms/step - loss: 0.6177 - accuracy: 0.6591 - val_loss: 0.6379 - val_accuracy: 0.6364\n",
            "Epoch 67/100\n",
            "20/20 [==============================] - 0s 2ms/step - loss: 0.6170 - accuracy: 0.6591 - val_loss: 0.6372 - val_accuracy: 0.6364\n",
            "Epoch 68/100\n",
            "20/20 [==============================] - 0s 3ms/step - loss: 0.6164 - accuracy: 0.6591 - val_loss: 0.6365 - val_accuracy: 0.6364\n",
            "Epoch 69/100\n",
            "20/20 [==============================] - 0s 2ms/step - loss: 0.6158 - accuracy: 0.6591 - val_loss: 0.6358 - val_accuracy: 0.6364\n",
            "Epoch 70/100\n",
            "20/20 [==============================] - 0s 3ms/step - loss: 0.6152 - accuracy: 0.6591 - val_loss: 0.6353 - val_accuracy: 0.6364\n",
            "Epoch 71/100\n",
            "20/20 [==============================] - 0s 2ms/step - loss: 0.6143 - accuracy: 0.6591 - val_loss: 0.6347 - val_accuracy: 0.6364\n",
            "Epoch 72/100\n",
            "20/20 [==============================] - 0s 2ms/step - loss: 0.6137 - accuracy: 0.6591 - val_loss: 0.6342 - val_accuracy: 0.6364\n",
            "Epoch 73/100\n",
            "20/20 [==============================] - 0s 3ms/step - loss: 0.6132 - accuracy: 0.6591 - val_loss: 0.6338 - val_accuracy: 0.6364\n",
            "Epoch 74/100\n",
            "20/20 [==============================] - 0s 2ms/step - loss: 0.6125 - accuracy: 0.6591 - val_loss: 0.6331 - val_accuracy: 0.6364\n",
            "Epoch 75/100\n",
            "20/20 [==============================] - 0s 3ms/step - loss: 0.6118 - accuracy: 0.6591 - val_loss: 0.6324 - val_accuracy: 0.6364\n",
            "Epoch 76/100\n",
            "20/20 [==============================] - 0s 3ms/step - loss: 0.6112 - accuracy: 0.6591 - val_loss: 0.6318 - val_accuracy: 0.6364\n",
            "Epoch 77/100\n",
            "20/20 [==============================] - 0s 2ms/step - loss: 0.6105 - accuracy: 0.6607 - val_loss: 0.6312 - val_accuracy: 0.6364\n",
            "Epoch 78/100\n",
            "20/20 [==============================] - 0s 3ms/step - loss: 0.6100 - accuracy: 0.6607 - val_loss: 0.6306 - val_accuracy: 0.6364\n",
            "Epoch 79/100\n",
            "20/20 [==============================] - 0s 3ms/step - loss: 0.6093 - accuracy: 0.6607 - val_loss: 0.6301 - val_accuracy: 0.6299\n",
            "Epoch 80/100\n",
            "20/20 [==============================] - 0s 3ms/step - loss: 0.6087 - accuracy: 0.6607 - val_loss: 0.6298 - val_accuracy: 0.6364\n",
            "Epoch 81/100\n",
            "20/20 [==============================] - 0s 2ms/step - loss: 0.6081 - accuracy: 0.6607 - val_loss: 0.6293 - val_accuracy: 0.6364\n",
            "Epoch 82/100\n",
            "20/20 [==============================] - 0s 3ms/step - loss: 0.6075 - accuracy: 0.6623 - val_loss: 0.6287 - val_accuracy: 0.6299\n",
            "Epoch 83/100\n",
            "20/20 [==============================] - 0s 3ms/step - loss: 0.6070 - accuracy: 0.6623 - val_loss: 0.6281 - val_accuracy: 0.6364\n",
            "Epoch 84/100\n",
            "20/20 [==============================] - 0s 4ms/step - loss: 0.6063 - accuracy: 0.6623 - val_loss: 0.6278 - val_accuracy: 0.6299\n",
            "Epoch 85/100\n",
            "20/20 [==============================] - 0s 4ms/step - loss: 0.6056 - accuracy: 0.6623 - val_loss: 0.6269 - val_accuracy: 0.6364\n",
            "Epoch 86/100\n",
            "20/20 [==============================] - 0s 4ms/step - loss: 0.6050 - accuracy: 0.6639 - val_loss: 0.6261 - val_accuracy: 0.6429\n",
            "Epoch 87/100\n",
            "20/20 [==============================] - 0s 4ms/step - loss: 0.6044 - accuracy: 0.6639 - val_loss: 0.6256 - val_accuracy: 0.6429\n",
            "Epoch 88/100\n",
            "20/20 [==============================] - 0s 3ms/step - loss: 0.6039 - accuracy: 0.6623 - val_loss: 0.6248 - val_accuracy: 0.6429\n",
            "Epoch 89/100\n",
            "20/20 [==============================] - 0s 3ms/step - loss: 0.6032 - accuracy: 0.6639 - val_loss: 0.6242 - val_accuracy: 0.6364\n",
            "Epoch 90/100\n",
            "20/20 [==============================] - 0s 3ms/step - loss: 0.6024 - accuracy: 0.6656 - val_loss: 0.6237 - val_accuracy: 0.6364\n",
            "Epoch 91/100\n",
            "20/20 [==============================] - 0s 4ms/step - loss: 0.6020 - accuracy: 0.6656 - val_loss: 0.6231 - val_accuracy: 0.6364\n",
            "Epoch 92/100\n",
            "20/20 [==============================] - 0s 4ms/step - loss: 0.6012 - accuracy: 0.6656 - val_loss: 0.6224 - val_accuracy: 0.6299\n",
            "Epoch 93/100\n",
            "20/20 [==============================] - 0s 3ms/step - loss: 0.6005 - accuracy: 0.6672 - val_loss: 0.6219 - val_accuracy: 0.6299\n",
            "Epoch 94/100\n",
            "20/20 [==============================] - 0s 3ms/step - loss: 0.6002 - accuracy: 0.6688 - val_loss: 0.6213 - val_accuracy: 0.6299\n",
            "Epoch 95/100\n",
            "20/20 [==============================] - 0s 4ms/step - loss: 0.5994 - accuracy: 0.6672 - val_loss: 0.6209 - val_accuracy: 0.6299\n",
            "Epoch 96/100\n",
            "20/20 [==============================] - 0s 4ms/step - loss: 0.5989 - accuracy: 0.6672 - val_loss: 0.6202 - val_accuracy: 0.6299\n",
            "Epoch 97/100\n",
            "20/20 [==============================] - 0s 3ms/step - loss: 0.5984 - accuracy: 0.6688 - val_loss: 0.6197 - val_accuracy: 0.6364\n",
            "Epoch 98/100\n",
            "20/20 [==============================] - 0s 4ms/step - loss: 0.5979 - accuracy: 0.6688 - val_loss: 0.6189 - val_accuracy: 0.6364\n",
            "Epoch 99/100\n",
            "20/20 [==============================] - 0s 3ms/step - loss: 0.5972 - accuracy: 0.6721 - val_loss: 0.6187 - val_accuracy: 0.6364\n",
            "Epoch 100/100\n",
            "20/20 [==============================] - 0s 4ms/step - loss: 0.5965 - accuracy: 0.6705 - val_loss: 0.6183 - val_accuracy: 0.6364\n"
          ]
        },
        {
          "output_type": "execute_result",
          "data": {
            "text/plain": [
              "<keras.src.callbacks.History at 0x7d6d4cfeb070>"
            ]
          },
          "metadata": {},
          "execution_count": 32
        }
      ]
    },
    {
      "cell_type": "markdown",
      "source": [
        "Now we have to decide number of neurons"
      ],
      "metadata": {
        "id": "_HUlorDGJZXJ"
      }
    },
    {
      "cell_type": "code",
      "source": [
        "def build_model(hp):\n",
        "  model = keras.Sequential()\n",
        "  units = hp.Int('units',8,128,step=8)\n",
        "  model.add(keras.layers.Dense(units=units,activation='relu',input_shape=(8,)))\n",
        "  model.add(keras.layers.Dense(1,activation=\"sigmoid\"))\n",
        "\n",
        "  model.compile(optimizer='SGD',loss='binary_crossentropy',metrics=['accuracy'])\n",
        "  return model"
      ],
      "metadata": {
        "id": "IbBtgX5xJePS"
      },
      "execution_count": 39,
      "outputs": []
    },
    {
      "cell_type": "code",
      "source": [
        "tuner = kt.RandomSearch(build_model,objective='val_accuracy',max_trials=5,directory='mydir')"
      ],
      "metadata": {
        "id": "4RgRQiYZKtj8"
      },
      "execution_count": 40,
      "outputs": []
    },
    {
      "cell_type": "code",
      "source": [
        "tuner.search(x_train,y_train,epochs=5,validation_data=(x_test,y_test))"
      ],
      "metadata": {
        "colab": {
          "base_uri": "https://localhost:8080/"
        },
        "id": "IyHQPxjvLFMx",
        "outputId": "760ca142-2db3-41a1-b118-1c6450875baa"
      },
      "execution_count": 41,
      "outputs": [
        {
          "output_type": "stream",
          "name": "stdout",
          "text": [
            "Trial 5 Complete [00h 00m 01s]\n",
            "val_accuracy: 0.6298701167106628\n",
            "\n",
            "Best val_accuracy So Far: 0.6688311696052551\n",
            "Total elapsed time: 00h 00m 06s\n"
          ]
        }
      ]
    },
    {
      "cell_type": "code",
      "source": [
        "tuner.get_best_hyperparameters()[0].values"
      ],
      "metadata": {
        "colab": {
          "base_uri": "https://localhost:8080/"
        },
        "id": "RxwD3VmNMlZS",
        "outputId": "797fc1ea-43e2-4c79-fbef-b22e552ded7a"
      },
      "execution_count": 42,
      "outputs": [
        {
          "output_type": "execute_result",
          "data": {
            "text/plain": [
              "{'units': 72}"
            ]
          },
          "metadata": {},
          "execution_count": 42
        }
      ]
    },
    {
      "cell_type": "code",
      "source": [
        "model = tuner.get_best_models(num_models=1)[0]"
      ],
      "metadata": {
        "id": "KQ18eMhpMsPg"
      },
      "execution_count": 43,
      "outputs": []
    },
    {
      "cell_type": "code",
      "source": [
        "model.fit(x_train,y_train,batch_size=32,epochs=100,initial_epoch=6,validation_data=(x_test,y_test))"
      ],
      "metadata": {
        "colab": {
          "base_uri": "https://localhost:8080/"
        },
        "id": "eetQ5bu6NGdX",
        "outputId": "0f8dd3a0-6023-497f-cc2c-4e801ee8969d"
      },
      "execution_count": 45,
      "outputs": [
        {
          "output_type": "stream",
          "name": "stdout",
          "text": [
            "Epoch 7/100\n",
            "20/20 [==============================] - 0s 5ms/step - loss: 0.6403 - accuracy: 0.6574 - val_loss: 0.6450 - val_accuracy: 0.6299\n",
            "Epoch 8/100\n",
            "20/20 [==============================] - 0s 2ms/step - loss: 0.6392 - accuracy: 0.6574 - val_loss: 0.6441 - val_accuracy: 0.6299\n",
            "Epoch 9/100\n",
            "20/20 [==============================] - 0s 2ms/step - loss: 0.6381 - accuracy: 0.6574 - val_loss: 0.6433 - val_accuracy: 0.6299\n",
            "Epoch 10/100\n",
            "20/20 [==============================] - 0s 2ms/step - loss: 0.6370 - accuracy: 0.6574 - val_loss: 0.6426 - val_accuracy: 0.6299\n",
            "Epoch 11/100\n",
            "20/20 [==============================] - 0s 2ms/step - loss: 0.6362 - accuracy: 0.6574 - val_loss: 0.6420 - val_accuracy: 0.6299\n",
            "Epoch 12/100\n",
            "20/20 [==============================] - 0s 2ms/step - loss: 0.6354 - accuracy: 0.6574 - val_loss: 0.6414 - val_accuracy: 0.6299\n",
            "Epoch 13/100\n",
            "20/20 [==============================] - 0s 3ms/step - loss: 0.6347 - accuracy: 0.6574 - val_loss: 0.6408 - val_accuracy: 0.6299\n",
            "Epoch 14/100\n",
            "20/20 [==============================] - 0s 2ms/step - loss: 0.6340 - accuracy: 0.6574 - val_loss: 0.6399 - val_accuracy: 0.6299\n",
            "Epoch 15/100\n",
            "20/20 [==============================] - 0s 2ms/step - loss: 0.6334 - accuracy: 0.6574 - val_loss: 0.6391 - val_accuracy: 0.6299\n",
            "Epoch 16/100\n",
            "20/20 [==============================] - 0s 2ms/step - loss: 0.6329 - accuracy: 0.6574 - val_loss: 0.6384 - val_accuracy: 0.6299\n",
            "Epoch 17/100\n",
            "20/20 [==============================] - 0s 2ms/step - loss: 0.6322 - accuracy: 0.6574 - val_loss: 0.6378 - val_accuracy: 0.6299\n",
            "Epoch 18/100\n",
            "20/20 [==============================] - 0s 2ms/step - loss: 0.6315 - accuracy: 0.6574 - val_loss: 0.6372 - val_accuracy: 0.6299\n",
            "Epoch 19/100\n",
            "20/20 [==============================] - 0s 2ms/step - loss: 0.6308 - accuracy: 0.6574 - val_loss: 0.6365 - val_accuracy: 0.6299\n",
            "Epoch 20/100\n",
            "20/20 [==============================] - 0s 3ms/step - loss: 0.6303 - accuracy: 0.6574 - val_loss: 0.6361 - val_accuracy: 0.6299\n",
            "Epoch 21/100\n",
            "20/20 [==============================] - 0s 2ms/step - loss: 0.6296 - accuracy: 0.6574 - val_loss: 0.6357 - val_accuracy: 0.6299\n",
            "Epoch 22/100\n",
            "20/20 [==============================] - 0s 2ms/step - loss: 0.6290 - accuracy: 0.6574 - val_loss: 0.6347 - val_accuracy: 0.6299\n",
            "Epoch 23/100\n",
            "20/20 [==============================] - 0s 2ms/step - loss: 0.6284 - accuracy: 0.6574 - val_loss: 0.6339 - val_accuracy: 0.6299\n",
            "Epoch 24/100\n",
            "20/20 [==============================] - 0s 2ms/step - loss: 0.6277 - accuracy: 0.6574 - val_loss: 0.6334 - val_accuracy: 0.6299\n",
            "Epoch 25/100\n",
            "20/20 [==============================] - 0s 3ms/step - loss: 0.6272 - accuracy: 0.6574 - val_loss: 0.6327 - val_accuracy: 0.6299\n",
            "Epoch 26/100\n",
            "20/20 [==============================] - 0s 3ms/step - loss: 0.6265 - accuracy: 0.6574 - val_loss: 0.6323 - val_accuracy: 0.6299\n",
            "Epoch 27/100\n",
            "20/20 [==============================] - 0s 3ms/step - loss: 0.6260 - accuracy: 0.6574 - val_loss: 0.6315 - val_accuracy: 0.6299\n",
            "Epoch 28/100\n",
            "20/20 [==============================] - 0s 3ms/step - loss: 0.6254 - accuracy: 0.6574 - val_loss: 0.6308 - val_accuracy: 0.6299\n",
            "Epoch 29/100\n",
            "20/20 [==============================] - 0s 2ms/step - loss: 0.6248 - accuracy: 0.6574 - val_loss: 0.6297 - val_accuracy: 0.6299\n",
            "Epoch 30/100\n",
            "20/20 [==============================] - 0s 3ms/step - loss: 0.6241 - accuracy: 0.6574 - val_loss: 0.6290 - val_accuracy: 0.6299\n",
            "Epoch 31/100\n",
            "20/20 [==============================] - 0s 2ms/step - loss: 0.6235 - accuracy: 0.6574 - val_loss: 0.6283 - val_accuracy: 0.6299\n",
            "Epoch 32/100\n",
            "20/20 [==============================] - 0s 2ms/step - loss: 0.6229 - accuracy: 0.6574 - val_loss: 0.6276 - val_accuracy: 0.6299\n",
            "Epoch 33/100\n",
            "20/20 [==============================] - 0s 3ms/step - loss: 0.6223 - accuracy: 0.6591 - val_loss: 0.6270 - val_accuracy: 0.6299\n",
            "Epoch 34/100\n",
            "20/20 [==============================] - 0s 3ms/step - loss: 0.6217 - accuracy: 0.6591 - val_loss: 0.6262 - val_accuracy: 0.6299\n",
            "Epoch 35/100\n",
            "20/20 [==============================] - 0s 2ms/step - loss: 0.6213 - accuracy: 0.6607 - val_loss: 0.6256 - val_accuracy: 0.6299\n",
            "Epoch 36/100\n",
            "20/20 [==============================] - 0s 3ms/step - loss: 0.6205 - accuracy: 0.6607 - val_loss: 0.6251 - val_accuracy: 0.6299\n",
            "Epoch 37/100\n",
            "20/20 [==============================] - 0s 3ms/step - loss: 0.6200 - accuracy: 0.6607 - val_loss: 0.6246 - val_accuracy: 0.6299\n",
            "Epoch 38/100\n",
            "20/20 [==============================] - 0s 2ms/step - loss: 0.6195 - accuracy: 0.6607 - val_loss: 0.6238 - val_accuracy: 0.6299\n",
            "Epoch 39/100\n",
            "20/20 [==============================] - 0s 2ms/step - loss: 0.6188 - accuracy: 0.6607 - val_loss: 0.6231 - val_accuracy: 0.6299\n",
            "Epoch 40/100\n",
            "20/20 [==============================] - 0s 2ms/step - loss: 0.6183 - accuracy: 0.6607 - val_loss: 0.6223 - val_accuracy: 0.6299\n",
            "Epoch 41/100\n",
            "20/20 [==============================] - 0s 2ms/step - loss: 0.6177 - accuracy: 0.6607 - val_loss: 0.6218 - val_accuracy: 0.6299\n",
            "Epoch 42/100\n",
            "20/20 [==============================] - 0s 3ms/step - loss: 0.6172 - accuracy: 0.6607 - val_loss: 0.6211 - val_accuracy: 0.6299\n",
            "Epoch 43/100\n",
            "20/20 [==============================] - 0s 3ms/step - loss: 0.6166 - accuracy: 0.6607 - val_loss: 0.6205 - val_accuracy: 0.6299\n",
            "Epoch 44/100\n",
            "20/20 [==============================] - 0s 3ms/step - loss: 0.6160 - accuracy: 0.6607 - val_loss: 0.6199 - val_accuracy: 0.6299\n",
            "Epoch 45/100\n",
            "20/20 [==============================] - 0s 3ms/step - loss: 0.6155 - accuracy: 0.6623 - val_loss: 0.6192 - val_accuracy: 0.6299\n",
            "Epoch 46/100\n",
            "20/20 [==============================] - 0s 2ms/step - loss: 0.6149 - accuracy: 0.6623 - val_loss: 0.6185 - val_accuracy: 0.6299\n",
            "Epoch 47/100\n",
            "20/20 [==============================] - 0s 2ms/step - loss: 0.6143 - accuracy: 0.6639 - val_loss: 0.6179 - val_accuracy: 0.6299\n",
            "Epoch 48/100\n",
            "20/20 [==============================] - 0s 3ms/step - loss: 0.6138 - accuracy: 0.6656 - val_loss: 0.6174 - val_accuracy: 0.6299\n",
            "Epoch 49/100\n",
            "20/20 [==============================] - 0s 2ms/step - loss: 0.6132 - accuracy: 0.6639 - val_loss: 0.6168 - val_accuracy: 0.6299\n",
            "Epoch 50/100\n",
            "20/20 [==============================] - 0s 2ms/step - loss: 0.6126 - accuracy: 0.6639 - val_loss: 0.6163 - val_accuracy: 0.6299\n",
            "Epoch 51/100\n",
            "20/20 [==============================] - 0s 2ms/step - loss: 0.6121 - accuracy: 0.6639 - val_loss: 0.6157 - val_accuracy: 0.6299\n",
            "Epoch 52/100\n",
            "20/20 [==============================] - 0s 3ms/step - loss: 0.6117 - accuracy: 0.6656 - val_loss: 0.6150 - val_accuracy: 0.6299\n",
            "Epoch 53/100\n",
            "20/20 [==============================] - 0s 2ms/step - loss: 0.6110 - accuracy: 0.6656 - val_loss: 0.6145 - val_accuracy: 0.6299\n",
            "Epoch 54/100\n",
            "20/20 [==============================] - 0s 2ms/step - loss: 0.6105 - accuracy: 0.6656 - val_loss: 0.6135 - val_accuracy: 0.6299\n",
            "Epoch 55/100\n",
            "20/20 [==============================] - 0s 2ms/step - loss: 0.6099 - accuracy: 0.6656 - val_loss: 0.6128 - val_accuracy: 0.6429\n",
            "Epoch 56/100\n",
            "20/20 [==============================] - 0s 3ms/step - loss: 0.6093 - accuracy: 0.6639 - val_loss: 0.6122 - val_accuracy: 0.6429\n",
            "Epoch 57/100\n",
            "20/20 [==============================] - 0s 3ms/step - loss: 0.6087 - accuracy: 0.6639 - val_loss: 0.6116 - val_accuracy: 0.6429\n",
            "Epoch 58/100\n",
            "20/20 [==============================] - 0s 4ms/step - loss: 0.6082 - accuracy: 0.6656 - val_loss: 0.6109 - val_accuracy: 0.6429\n",
            "Epoch 59/100\n",
            "20/20 [==============================] - 0s 3ms/step - loss: 0.6077 - accuracy: 0.6656 - val_loss: 0.6101 - val_accuracy: 0.6558\n",
            "Epoch 60/100\n",
            "20/20 [==============================] - 0s 4ms/step - loss: 0.6070 - accuracy: 0.6639 - val_loss: 0.6094 - val_accuracy: 0.6558\n",
            "Epoch 61/100\n",
            "20/20 [==============================] - 0s 3ms/step - loss: 0.6065 - accuracy: 0.6639 - val_loss: 0.6087 - val_accuracy: 0.6558\n",
            "Epoch 62/100\n",
            "20/20 [==============================] - 0s 4ms/step - loss: 0.6059 - accuracy: 0.6639 - val_loss: 0.6081 - val_accuracy: 0.6558\n",
            "Epoch 63/100\n",
            "20/20 [==============================] - 0s 3ms/step - loss: 0.6053 - accuracy: 0.6639 - val_loss: 0.6074 - val_accuracy: 0.6558\n",
            "Epoch 64/100\n",
            "20/20 [==============================] - 0s 3ms/step - loss: 0.6049 - accuracy: 0.6705 - val_loss: 0.6068 - val_accuracy: 0.6558\n",
            "Epoch 65/100\n",
            "20/20 [==============================] - 0s 3ms/step - loss: 0.6042 - accuracy: 0.6721 - val_loss: 0.6062 - val_accuracy: 0.6558\n",
            "Epoch 66/100\n",
            "20/20 [==============================] - 0s 3ms/step - loss: 0.6037 - accuracy: 0.6705 - val_loss: 0.6056 - val_accuracy: 0.6558\n",
            "Epoch 67/100\n",
            "20/20 [==============================] - 0s 3ms/step - loss: 0.6031 - accuracy: 0.6705 - val_loss: 0.6051 - val_accuracy: 0.6558\n",
            "Epoch 68/100\n",
            "20/20 [==============================] - 0s 3ms/step - loss: 0.6026 - accuracy: 0.6721 - val_loss: 0.6047 - val_accuracy: 0.6558\n",
            "Epoch 69/100\n",
            "20/20 [==============================] - 0s 4ms/step - loss: 0.6020 - accuracy: 0.6688 - val_loss: 0.6037 - val_accuracy: 0.6494\n",
            "Epoch 70/100\n",
            "20/20 [==============================] - 0s 3ms/step - loss: 0.6014 - accuracy: 0.6721 - val_loss: 0.6035 - val_accuracy: 0.6558\n",
            "Epoch 71/100\n",
            "20/20 [==============================] - 0s 4ms/step - loss: 0.6008 - accuracy: 0.6705 - val_loss: 0.6029 - val_accuracy: 0.6558\n",
            "Epoch 72/100\n",
            "20/20 [==============================] - 0s 4ms/step - loss: 0.6003 - accuracy: 0.6721 - val_loss: 0.6025 - val_accuracy: 0.6558\n",
            "Epoch 73/100\n",
            "20/20 [==============================] - 0s 4ms/step - loss: 0.5997 - accuracy: 0.6705 - val_loss: 0.6016 - val_accuracy: 0.6494\n",
            "Epoch 74/100\n",
            "20/20 [==============================] - 0s 3ms/step - loss: 0.5993 - accuracy: 0.6721 - val_loss: 0.6010 - val_accuracy: 0.6494\n",
            "Epoch 75/100\n",
            "20/20 [==============================] - 0s 4ms/step - loss: 0.5986 - accuracy: 0.6737 - val_loss: 0.6002 - val_accuracy: 0.6623\n",
            "Epoch 76/100\n",
            "20/20 [==============================] - 0s 3ms/step - loss: 0.5980 - accuracy: 0.6770 - val_loss: 0.5999 - val_accuracy: 0.6494\n",
            "Epoch 77/100\n",
            "20/20 [==============================] - 0s 2ms/step - loss: 0.5975 - accuracy: 0.6721 - val_loss: 0.5995 - val_accuracy: 0.6494\n",
            "Epoch 78/100\n",
            "20/20 [==============================] - 0s 3ms/step - loss: 0.5969 - accuracy: 0.6754 - val_loss: 0.5988 - val_accuracy: 0.6494\n",
            "Epoch 79/100\n",
            "20/20 [==============================] - 0s 3ms/step - loss: 0.5964 - accuracy: 0.6737 - val_loss: 0.5978 - val_accuracy: 0.6558\n",
            "Epoch 80/100\n",
            "20/20 [==============================] - 0s 3ms/step - loss: 0.5957 - accuracy: 0.6754 - val_loss: 0.5972 - val_accuracy: 0.6623\n",
            "Epoch 81/100\n",
            "20/20 [==============================] - 0s 2ms/step - loss: 0.5951 - accuracy: 0.6803 - val_loss: 0.5966 - val_accuracy: 0.6558\n",
            "Epoch 82/100\n",
            "20/20 [==============================] - 0s 2ms/step - loss: 0.5946 - accuracy: 0.6770 - val_loss: 0.5958 - val_accuracy: 0.6558\n",
            "Epoch 83/100\n",
            "20/20 [==============================] - 0s 3ms/step - loss: 0.5940 - accuracy: 0.6786 - val_loss: 0.5952 - val_accuracy: 0.6558\n",
            "Epoch 84/100\n",
            "20/20 [==============================] - 0s 2ms/step - loss: 0.5935 - accuracy: 0.6803 - val_loss: 0.5946 - val_accuracy: 0.6558\n",
            "Epoch 85/100\n",
            "20/20 [==============================] - 0s 3ms/step - loss: 0.5929 - accuracy: 0.6786 - val_loss: 0.5941 - val_accuracy: 0.6558\n",
            "Epoch 86/100\n",
            "20/20 [==============================] - 0s 3ms/step - loss: 0.5924 - accuracy: 0.6770 - val_loss: 0.5933 - val_accuracy: 0.6558\n",
            "Epoch 87/100\n",
            "20/20 [==============================] - 0s 2ms/step - loss: 0.5917 - accuracy: 0.6786 - val_loss: 0.5924 - val_accuracy: 0.6558\n",
            "Epoch 88/100\n",
            "20/20 [==============================] - 0s 3ms/step - loss: 0.5912 - accuracy: 0.6803 - val_loss: 0.5917 - val_accuracy: 0.6558\n",
            "Epoch 89/100\n",
            "20/20 [==============================] - 0s 2ms/step - loss: 0.5906 - accuracy: 0.6819 - val_loss: 0.5909 - val_accuracy: 0.6558\n",
            "Epoch 90/100\n",
            "20/20 [==============================] - 0s 3ms/step - loss: 0.5901 - accuracy: 0.6852 - val_loss: 0.5904 - val_accuracy: 0.6558\n",
            "Epoch 91/100\n",
            "20/20 [==============================] - 0s 2ms/step - loss: 0.5895 - accuracy: 0.6835 - val_loss: 0.5900 - val_accuracy: 0.6558\n",
            "Epoch 92/100\n",
            "20/20 [==============================] - 0s 3ms/step - loss: 0.5890 - accuracy: 0.6819 - val_loss: 0.5891 - val_accuracy: 0.6558\n",
            "Epoch 93/100\n",
            "20/20 [==============================] - 0s 3ms/step - loss: 0.5882 - accuracy: 0.6819 - val_loss: 0.5884 - val_accuracy: 0.6623\n",
            "Epoch 94/100\n",
            "20/20 [==============================] - 0s 3ms/step - loss: 0.5878 - accuracy: 0.6868 - val_loss: 0.5878 - val_accuracy: 0.6558\n",
            "Epoch 95/100\n",
            "20/20 [==============================] - 0s 2ms/step - loss: 0.5872 - accuracy: 0.6868 - val_loss: 0.5872 - val_accuracy: 0.6558\n",
            "Epoch 96/100\n",
            "20/20 [==============================] - 0s 3ms/step - loss: 0.5865 - accuracy: 0.6835 - val_loss: 0.5865 - val_accuracy: 0.6623\n",
            "Epoch 97/100\n",
            "20/20 [==============================] - 0s 3ms/step - loss: 0.5861 - accuracy: 0.6884 - val_loss: 0.5862 - val_accuracy: 0.6558\n",
            "Epoch 98/100\n",
            "20/20 [==============================] - 0s 3ms/step - loss: 0.5855 - accuracy: 0.6819 - val_loss: 0.5854 - val_accuracy: 0.6623\n",
            "Epoch 99/100\n",
            "20/20 [==============================] - 0s 3ms/step - loss: 0.5850 - accuracy: 0.6835 - val_loss: 0.5843 - val_accuracy: 0.6818\n",
            "Epoch 100/100\n",
            "20/20 [==============================] - 0s 2ms/step - loss: 0.5844 - accuracy: 0.6917 - val_loss: 0.5836 - val_accuracy: 0.6818\n"
          ]
        },
        {
          "output_type": "execute_result",
          "data": {
            "text/plain": [
              "<keras.src.callbacks.History at 0x7d6d498a5420>"
            ]
          },
          "metadata": {},
          "execution_count": 45
        }
      ]
    },
    {
      "cell_type": "markdown",
      "source": [
        "How to select number of layers"
      ],
      "metadata": {
        "id": "HmVkfReTNn4u"
      }
    },
    {
      "cell_type": "code",
      "source": [
        "def build_model(hp):\n",
        "  model = keras.Sequential()\n",
        "  model.add(keras.layers.Dense(72,activation='relu',input_shape=(8,)))\n",
        "  for i in range(hp.Int('num_layers',min_value=1,max_value=10)):\n",
        "    model.add(keras.layers.Dense(72,activation='relu'))\n",
        "\n",
        "  model.add(keras.layers.Dense(1,activation='sigmoid'))\n",
        "  model.compile(optimizer='SGD',loss='binary_crossentropy',metrics=['accuracy'])\n",
        "\n",
        "  return model"
      ],
      "metadata": {
        "id": "aJd6eZzNNqq9"
      },
      "execution_count": 46,
      "outputs": []
    },
    {
      "cell_type": "code",
      "source": [
        "tuner = kt.RandomSearch(build_model,objective='val_accuracy',max_trials=5,directory='mydir',project_name='layer_selection')"
      ],
      "metadata": {
        "id": "EWX-HTUrO4lL"
      },
      "execution_count": 47,
      "outputs": []
    },
    {
      "cell_type": "code",
      "source": [
        "tuner.search(x_train,y_train,epochs=5,validation_data=(x_test,y_test))"
      ],
      "metadata": {
        "colab": {
          "base_uri": "https://localhost:8080/"
        },
        "id": "feS0ayhnPMqy",
        "outputId": "e386aeb8-7c21-4d78-f65d-de35a9972e8d"
      },
      "execution_count": 50,
      "outputs": [
        {
          "output_type": "stream",
          "name": "stdout",
          "text": [
            "Trial 5 Complete [00h 00m 02s]\n",
            "val_accuracy: 0.6298701167106628\n",
            "\n",
            "Best val_accuracy So Far: 0.6298701167106628\n",
            "Total elapsed time: 00h 00m 08s\n"
          ]
        }
      ]
    },
    {
      "cell_type": "code",
      "source": [
        "tuner.get_best_hyperparameters()[0].values"
      ],
      "metadata": {
        "colab": {
          "base_uri": "https://localhost:8080/"
        },
        "id": "xlbOv7UpPeiw",
        "outputId": "0a249ced-0c20-430a-a854-db5eed9403e8"
      },
      "execution_count": 51,
      "outputs": [
        {
          "output_type": "execute_result",
          "data": {
            "text/plain": [
              "{'num_layers': 10}"
            ]
          },
          "metadata": {},
          "execution_count": 51
        }
      ]
    },
    {
      "cell_type": "code",
      "source": [
        "model = tuner.get_best_models(num_models=1)[0]"
      ],
      "metadata": {
        "id": "U5-FzxA8PlJM"
      },
      "execution_count": 52,
      "outputs": []
    },
    {
      "cell_type": "code",
      "source": [
        "model.fit(x_train,y_train,batch_size=32,epochs=100,initial_epoch=6,validation_data=(x_test,y_test))"
      ],
      "metadata": {
        "colab": {
          "base_uri": "https://localhost:8080/"
        },
        "id": "w4MeU7hPPobU",
        "outputId": "7baa17a5-86fe-4d70-b00a-c12419c06108"
      },
      "execution_count": 53,
      "outputs": [
        {
          "output_type": "stream",
          "name": "stdout",
          "text": [
            "Epoch 7/100\n",
            "20/20 [==============================] - 1s 10ms/step - loss: 0.6812 - accuracy: 0.6574 - val_loss: 0.6799 - val_accuracy: 0.6299\n",
            "Epoch 8/100\n",
            "20/20 [==============================] - 0s 4ms/step - loss: 0.6741 - accuracy: 0.6574 - val_loss: 0.6752 - val_accuracy: 0.6299\n",
            "Epoch 9/100\n",
            "20/20 [==============================] - 0s 3ms/step - loss: 0.6685 - accuracy: 0.6574 - val_loss: 0.6711 - val_accuracy: 0.6299\n",
            "Epoch 10/100\n",
            "20/20 [==============================] - 0s 3ms/step - loss: 0.6635 - accuracy: 0.6574 - val_loss: 0.6680 - val_accuracy: 0.6299\n",
            "Epoch 11/100\n",
            "20/20 [==============================] - 0s 3ms/step - loss: 0.6598 - accuracy: 0.6574 - val_loss: 0.6663 - val_accuracy: 0.6299\n",
            "Epoch 12/100\n",
            "20/20 [==============================] - 0s 3ms/step - loss: 0.6575 - accuracy: 0.6574 - val_loss: 0.6644 - val_accuracy: 0.6299\n",
            "Epoch 13/100\n",
            "20/20 [==============================] - 0s 3ms/step - loss: 0.6550 - accuracy: 0.6574 - val_loss: 0.6626 - val_accuracy: 0.6299\n",
            "Epoch 14/100\n",
            "20/20 [==============================] - 0s 3ms/step - loss: 0.6524 - accuracy: 0.6574 - val_loss: 0.6612 - val_accuracy: 0.6299\n",
            "Epoch 15/100\n",
            "20/20 [==============================] - 0s 3ms/step - loss: 0.6502 - accuracy: 0.6574 - val_loss: 0.6602 - val_accuracy: 0.6299\n",
            "Epoch 16/100\n",
            "20/20 [==============================] - 0s 3ms/step - loss: 0.6486 - accuracy: 0.6574 - val_loss: 0.6595 - val_accuracy: 0.6299\n",
            "Epoch 17/100\n",
            "20/20 [==============================] - 0s 3ms/step - loss: 0.6474 - accuracy: 0.6574 - val_loss: 0.6590 - val_accuracy: 0.6299\n",
            "Epoch 18/100\n",
            "20/20 [==============================] - 0s 4ms/step - loss: 0.6462 - accuracy: 0.6574 - val_loss: 0.6586 - val_accuracy: 0.6299\n",
            "Epoch 19/100\n",
            "20/20 [==============================] - 0s 3ms/step - loss: 0.6452 - accuracy: 0.6574 - val_loss: 0.6583 - val_accuracy: 0.6299\n",
            "Epoch 20/100\n",
            "20/20 [==============================] - 0s 3ms/step - loss: 0.6446 - accuracy: 0.6574 - val_loss: 0.6582 - val_accuracy: 0.6299\n",
            "Epoch 21/100\n",
            "20/20 [==============================] - 0s 3ms/step - loss: 0.6441 - accuracy: 0.6574 - val_loss: 0.6581 - val_accuracy: 0.6299\n",
            "Epoch 22/100\n",
            "20/20 [==============================] - 0s 3ms/step - loss: 0.6439 - accuracy: 0.6574 - val_loss: 0.6580 - val_accuracy: 0.6299\n",
            "Epoch 23/100\n",
            "20/20 [==============================] - 0s 3ms/step - loss: 0.6437 - accuracy: 0.6574 - val_loss: 0.6580 - val_accuracy: 0.6299\n",
            "Epoch 24/100\n",
            "20/20 [==============================] - 0s 3ms/step - loss: 0.6432 - accuracy: 0.6574 - val_loss: 0.6580 - val_accuracy: 0.6299\n",
            "Epoch 25/100\n",
            "20/20 [==============================] - 0s 3ms/step - loss: 0.6429 - accuracy: 0.6574 - val_loss: 0.6580 - val_accuracy: 0.6299\n",
            "Epoch 26/100\n",
            "20/20 [==============================] - 0s 3ms/step - loss: 0.6427 - accuracy: 0.6574 - val_loss: 0.6581 - val_accuracy: 0.6299\n",
            "Epoch 27/100\n",
            "20/20 [==============================] - 0s 3ms/step - loss: 0.6424 - accuracy: 0.6574 - val_loss: 0.6581 - val_accuracy: 0.6299\n",
            "Epoch 28/100\n",
            "20/20 [==============================] - 0s 3ms/step - loss: 0.6422 - accuracy: 0.6574 - val_loss: 0.6583 - val_accuracy: 0.6299\n",
            "Epoch 29/100\n",
            "20/20 [==============================] - 0s 3ms/step - loss: 0.6421 - accuracy: 0.6574 - val_loss: 0.6584 - val_accuracy: 0.6299\n",
            "Epoch 30/100\n",
            "20/20 [==============================] - 0s 3ms/step - loss: 0.6419 - accuracy: 0.6574 - val_loss: 0.6584 - val_accuracy: 0.6299\n",
            "Epoch 31/100\n",
            "20/20 [==============================] - 0s 3ms/step - loss: 0.6418 - accuracy: 0.6574 - val_loss: 0.6582 - val_accuracy: 0.6299\n",
            "Epoch 32/100\n",
            "20/20 [==============================] - 0s 3ms/step - loss: 0.6417 - accuracy: 0.6574 - val_loss: 0.6581 - val_accuracy: 0.6299\n",
            "Epoch 33/100\n",
            "20/20 [==============================] - 0s 2ms/step - loss: 0.6416 - accuracy: 0.6574 - val_loss: 0.6582 - val_accuracy: 0.6299\n",
            "Epoch 34/100\n",
            "20/20 [==============================] - 0s 3ms/step - loss: 0.6416 - accuracy: 0.6574 - val_loss: 0.6582 - val_accuracy: 0.6299\n",
            "Epoch 35/100\n",
            "20/20 [==============================] - 0s 3ms/step - loss: 0.6415 - accuracy: 0.6574 - val_loss: 0.6583 - val_accuracy: 0.6299\n",
            "Epoch 36/100\n",
            "20/20 [==============================] - 0s 4ms/step - loss: 0.6414 - accuracy: 0.6574 - val_loss: 0.6584 - val_accuracy: 0.6299\n",
            "Epoch 37/100\n",
            "20/20 [==============================] - 0s 3ms/step - loss: 0.6413 - accuracy: 0.6574 - val_loss: 0.6582 - val_accuracy: 0.6299\n",
            "Epoch 38/100\n",
            "20/20 [==============================] - 0s 3ms/step - loss: 0.6412 - accuracy: 0.6574 - val_loss: 0.6581 - val_accuracy: 0.6299\n",
            "Epoch 39/100\n",
            "20/20 [==============================] - 0s 4ms/step - loss: 0.6411 - accuracy: 0.6574 - val_loss: 0.6581 - val_accuracy: 0.6299\n",
            "Epoch 40/100\n",
            "20/20 [==============================] - 0s 3ms/step - loss: 0.6410 - accuracy: 0.6574 - val_loss: 0.6580 - val_accuracy: 0.6299\n",
            "Epoch 41/100\n",
            "20/20 [==============================] - 0s 3ms/step - loss: 0.6408 - accuracy: 0.6574 - val_loss: 0.6582 - val_accuracy: 0.6299\n",
            "Epoch 42/100\n",
            "20/20 [==============================] - 0s 3ms/step - loss: 0.6408 - accuracy: 0.6574 - val_loss: 0.6575 - val_accuracy: 0.6299\n",
            "Epoch 43/100\n",
            "20/20 [==============================] - 0s 3ms/step - loss: 0.6407 - accuracy: 0.6574 - val_loss: 0.6575 - val_accuracy: 0.6299\n",
            "Epoch 44/100\n",
            "20/20 [==============================] - 0s 3ms/step - loss: 0.6406 - accuracy: 0.6574 - val_loss: 0.6575 - val_accuracy: 0.6299\n",
            "Epoch 45/100\n",
            "20/20 [==============================] - 0s 3ms/step - loss: 0.6404 - accuracy: 0.6574 - val_loss: 0.6572 - val_accuracy: 0.6299\n",
            "Epoch 46/100\n",
            "20/20 [==============================] - 0s 3ms/step - loss: 0.6404 - accuracy: 0.6574 - val_loss: 0.6571 - val_accuracy: 0.6299\n",
            "Epoch 47/100\n",
            "20/20 [==============================] - 0s 3ms/step - loss: 0.6402 - accuracy: 0.6574 - val_loss: 0.6570 - val_accuracy: 0.6299\n",
            "Epoch 48/100\n",
            "20/20 [==============================] - 0s 3ms/step - loss: 0.6401 - accuracy: 0.6574 - val_loss: 0.6566 - val_accuracy: 0.6299\n",
            "Epoch 49/100\n",
            "20/20 [==============================] - 0s 3ms/step - loss: 0.6399 - accuracy: 0.6574 - val_loss: 0.6566 - val_accuracy: 0.6299\n",
            "Epoch 50/100\n",
            "20/20 [==============================] - 0s 3ms/step - loss: 0.6398 - accuracy: 0.6574 - val_loss: 0.6565 - val_accuracy: 0.6299\n",
            "Epoch 51/100\n",
            "20/20 [==============================] - 0s 3ms/step - loss: 0.6397 - accuracy: 0.6574 - val_loss: 0.6564 - val_accuracy: 0.6299\n",
            "Epoch 52/100\n",
            "20/20 [==============================] - 0s 3ms/step - loss: 0.6396 - accuracy: 0.6574 - val_loss: 0.6563 - val_accuracy: 0.6299\n",
            "Epoch 53/100\n",
            "20/20 [==============================] - 0s 3ms/step - loss: 0.6394 - accuracy: 0.6574 - val_loss: 0.6559 - val_accuracy: 0.6299\n",
            "Epoch 54/100\n",
            "20/20 [==============================] - 0s 3ms/step - loss: 0.6393 - accuracy: 0.6574 - val_loss: 0.6557 - val_accuracy: 0.6299\n",
            "Epoch 55/100\n",
            "20/20 [==============================] - 0s 4ms/step - loss: 0.6391 - accuracy: 0.6574 - val_loss: 0.6552 - val_accuracy: 0.6299\n",
            "Epoch 56/100\n",
            "20/20 [==============================] - 0s 3ms/step - loss: 0.6389 - accuracy: 0.6574 - val_loss: 0.6547 - val_accuracy: 0.6299\n",
            "Epoch 57/100\n",
            "20/20 [==============================] - 0s 4ms/step - loss: 0.6389 - accuracy: 0.6574 - val_loss: 0.6548 - val_accuracy: 0.6299\n",
            "Epoch 58/100\n",
            "20/20 [==============================] - 0s 4ms/step - loss: 0.6386 - accuracy: 0.6574 - val_loss: 0.6545 - val_accuracy: 0.6299\n",
            "Epoch 59/100\n",
            "20/20 [==============================] - 0s 3ms/step - loss: 0.6385 - accuracy: 0.6574 - val_loss: 0.6546 - val_accuracy: 0.6299\n",
            "Epoch 60/100\n",
            "20/20 [==============================] - 0s 3ms/step - loss: 0.6382 - accuracy: 0.6574 - val_loss: 0.6541 - val_accuracy: 0.6299\n",
            "Epoch 61/100\n",
            "20/20 [==============================] - 0s 3ms/step - loss: 0.6379 - accuracy: 0.6574 - val_loss: 0.6538 - val_accuracy: 0.6299\n",
            "Epoch 62/100\n",
            "20/20 [==============================] - 0s 3ms/step - loss: 0.6378 - accuracy: 0.6574 - val_loss: 0.6536 - val_accuracy: 0.6299\n",
            "Epoch 63/100\n",
            "20/20 [==============================] - 0s 3ms/step - loss: 0.6376 - accuracy: 0.6574 - val_loss: 0.6538 - val_accuracy: 0.6299\n",
            "Epoch 64/100\n",
            "20/20 [==============================] - 0s 3ms/step - loss: 0.6374 - accuracy: 0.6574 - val_loss: 0.6532 - val_accuracy: 0.6299\n",
            "Epoch 65/100\n",
            "20/20 [==============================] - 0s 3ms/step - loss: 0.6372 - accuracy: 0.6574 - val_loss: 0.6530 - val_accuracy: 0.6299\n",
            "Epoch 66/100\n",
            "20/20 [==============================] - 0s 3ms/step - loss: 0.6369 - accuracy: 0.6574 - val_loss: 0.6529 - val_accuracy: 0.6299\n",
            "Epoch 67/100\n",
            "20/20 [==============================] - 0s 3ms/step - loss: 0.6366 - accuracy: 0.6574 - val_loss: 0.6530 - val_accuracy: 0.6299\n",
            "Epoch 68/100\n",
            "20/20 [==============================] - 0s 3ms/step - loss: 0.6364 - accuracy: 0.6574 - val_loss: 0.6517 - val_accuracy: 0.6299\n",
            "Epoch 69/100\n",
            "20/20 [==============================] - 0s 3ms/step - loss: 0.6362 - accuracy: 0.6574 - val_loss: 0.6511 - val_accuracy: 0.6299\n",
            "Epoch 70/100\n",
            "20/20 [==============================] - 0s 3ms/step - loss: 0.6356 - accuracy: 0.6574 - val_loss: 0.6505 - val_accuracy: 0.6299\n",
            "Epoch 71/100\n",
            "20/20 [==============================] - 0s 3ms/step - loss: 0.6353 - accuracy: 0.6574 - val_loss: 0.6503 - val_accuracy: 0.6299\n",
            "Epoch 72/100\n",
            "20/20 [==============================] - 0s 3ms/step - loss: 0.6351 - accuracy: 0.6574 - val_loss: 0.6498 - val_accuracy: 0.6299\n",
            "Epoch 73/100\n",
            "20/20 [==============================] - 0s 3ms/step - loss: 0.6348 - accuracy: 0.6574 - val_loss: 0.6494 - val_accuracy: 0.6299\n",
            "Epoch 74/100\n",
            "20/20 [==============================] - 0s 3ms/step - loss: 0.6342 - accuracy: 0.6574 - val_loss: 0.6490 - val_accuracy: 0.6299\n",
            "Epoch 75/100\n",
            "20/20 [==============================] - 0s 4ms/step - loss: 0.6338 - accuracy: 0.6574 - val_loss: 0.6488 - val_accuracy: 0.6299\n",
            "Epoch 76/100\n",
            "20/20 [==============================] - 0s 4ms/step - loss: 0.6335 - accuracy: 0.6574 - val_loss: 0.6481 - val_accuracy: 0.6299\n",
            "Epoch 77/100\n",
            "20/20 [==============================] - 0s 3ms/step - loss: 0.6330 - accuracy: 0.6574 - val_loss: 0.6473 - val_accuracy: 0.6299\n",
            "Epoch 78/100\n",
            "20/20 [==============================] - 0s 3ms/step - loss: 0.6323 - accuracy: 0.6574 - val_loss: 0.6465 - val_accuracy: 0.6299\n",
            "Epoch 79/100\n",
            "20/20 [==============================] - 0s 3ms/step - loss: 0.6317 - accuracy: 0.6574 - val_loss: 0.6456 - val_accuracy: 0.6299\n",
            "Epoch 80/100\n",
            "20/20 [==============================] - 0s 3ms/step - loss: 0.6311 - accuracy: 0.6574 - val_loss: 0.6448 - val_accuracy: 0.6299\n",
            "Epoch 81/100\n",
            "20/20 [==============================] - 0s 3ms/step - loss: 0.6303 - accuracy: 0.6574 - val_loss: 0.6446 - val_accuracy: 0.6299\n",
            "Epoch 82/100\n",
            "20/20 [==============================] - 0s 3ms/step - loss: 0.6298 - accuracy: 0.6574 - val_loss: 0.6431 - val_accuracy: 0.6299\n",
            "Epoch 83/100\n",
            "20/20 [==============================] - 0s 3ms/step - loss: 0.6289 - accuracy: 0.6574 - val_loss: 0.6424 - val_accuracy: 0.6299\n",
            "Epoch 84/100\n",
            "20/20 [==============================] - 0s 3ms/step - loss: 0.6280 - accuracy: 0.6574 - val_loss: 0.6415 - val_accuracy: 0.6299\n",
            "Epoch 85/100\n",
            "20/20 [==============================] - 0s 4ms/step - loss: 0.6273 - accuracy: 0.6574 - val_loss: 0.6403 - val_accuracy: 0.6299\n",
            "Epoch 86/100\n",
            "20/20 [==============================] - 0s 5ms/step - loss: 0.6262 - accuracy: 0.6574 - val_loss: 0.6391 - val_accuracy: 0.6299\n",
            "Epoch 87/100\n",
            "20/20 [==============================] - 0s 3ms/step - loss: 0.6253 - accuracy: 0.6574 - val_loss: 0.6378 - val_accuracy: 0.6299\n",
            "Epoch 88/100\n",
            "20/20 [==============================] - 0s 4ms/step - loss: 0.6242 - accuracy: 0.6574 - val_loss: 0.6364 - val_accuracy: 0.6299\n",
            "Epoch 89/100\n",
            "20/20 [==============================] - 0s 4ms/step - loss: 0.6229 - accuracy: 0.6574 - val_loss: 0.6349 - val_accuracy: 0.6299\n",
            "Epoch 90/100\n",
            "20/20 [==============================] - 0s 4ms/step - loss: 0.6215 - accuracy: 0.6574 - val_loss: 0.6334 - val_accuracy: 0.6299\n",
            "Epoch 91/100\n",
            "20/20 [==============================] - 0s 4ms/step - loss: 0.6204 - accuracy: 0.6574 - val_loss: 0.6319 - val_accuracy: 0.6299\n",
            "Epoch 92/100\n",
            "20/20 [==============================] - 0s 3ms/step - loss: 0.6189 - accuracy: 0.6574 - val_loss: 0.6306 - val_accuracy: 0.6299\n",
            "Epoch 93/100\n",
            "20/20 [==============================] - 0s 4ms/step - loss: 0.6173 - accuracy: 0.6574 - val_loss: 0.6288 - val_accuracy: 0.6299\n",
            "Epoch 94/100\n",
            "20/20 [==============================] - 0s 4ms/step - loss: 0.6158 - accuracy: 0.6574 - val_loss: 0.6262 - val_accuracy: 0.6299\n",
            "Epoch 95/100\n",
            "20/20 [==============================] - 0s 4ms/step - loss: 0.6134 - accuracy: 0.6574 - val_loss: 0.6237 - val_accuracy: 0.6299\n",
            "Epoch 96/100\n",
            "20/20 [==============================] - 0s 4ms/step - loss: 0.6115 - accuracy: 0.6574 - val_loss: 0.6228 - val_accuracy: 0.6299\n",
            "Epoch 97/100\n",
            "20/20 [==============================] - 0s 5ms/step - loss: 0.6095 - accuracy: 0.6574 - val_loss: 0.6182 - val_accuracy: 0.6299\n",
            "Epoch 98/100\n",
            "20/20 [==============================] - 0s 4ms/step - loss: 0.6071 - accuracy: 0.6574 - val_loss: 0.6151 - val_accuracy: 0.6299\n",
            "Epoch 99/100\n",
            "20/20 [==============================] - 0s 5ms/step - loss: 0.6040 - accuracy: 0.6574 - val_loss: 0.6122 - val_accuracy: 0.6299\n",
            "Epoch 100/100\n",
            "20/20 [==============================] - 0s 4ms/step - loss: 0.6012 - accuracy: 0.6574 - val_loss: 0.6082 - val_accuracy: 0.6299\n"
          ]
        },
        {
          "output_type": "execute_result",
          "data": {
            "text/plain": [
              "<keras.src.callbacks.History at 0x7d6d48d7e5f0>"
            ]
          },
          "metadata": {},
          "execution_count": 53
        }
      ]
    },
    {
      "cell_type": "code",
      "source": [
        "def build_model(hp):\n",
        "  model = keras.Sequential()\n",
        "\n",
        "  counter = 0\n",
        "  for i in range(hp.Int('num_layers',min_value=1,max_value=10)):\n",
        "\n",
        "    if counter == 0:\n",
        "      model.add(keras.layers.Dense(\n",
        "          hp.Int('units'+str(i),min_value=8,max_value=128,step=8),\n",
        "          activation = hp.Choice('activation'+str(i),values=['relu','tanh','sigmoid']),\n",
        "          input_shape=(8,)\n",
        "          ))\n",
        "      # model.add(keras.layers.Dropout(hp.Choice('dropout'+str(i),values=[0.1,0.2,0.3,0.4,0.5,0.6,0.7,0.8,0.9])))\n",
        "    else:\n",
        "      model.add(keras.layers.Dense(\n",
        "          hp.Int('units'+str(i),min_value=8,max_value=128,step=8),\n",
        "          activation = hp.Choice('activation'+str(i),values=['relu','tanh','sigmoid']),\n",
        "          ))\n",
        "      # model.add(keras.layers.Dropout(hp.Choice('dropout'+str(i),values=[0.1,0.2,0.3,0.4,0.5,0.6,0.7,0.8,0.9])))\n",
        "      counter = counter + 1\n",
        "\n",
        "    model.add(keras.layers.Dense(1,activation='sigmoid'))\n",
        "    model.compile(optimizer=hp.Choice('optimizer',values=['adam','SGD','RMSprop','Nadam']),\n",
        "                                      loss='binary_crossentropy',metrics=['accuracy'])\n",
        "    return model"
      ],
      "metadata": {
        "id": "JJ9OQ1wlQGc9"
      },
      "execution_count": 114,
      "outputs": []
    },
    {
      "cell_type": "code",
      "source": [
        "tuner = kt.RandomSearch(build_model,objective='val_accuracy',max_trials=5,directory='mydir',project_name='check_accuracy')"
      ],
      "metadata": {
        "id": "y8sVeyGXSNq3"
      },
      "execution_count": 115,
      "outputs": []
    },
    {
      "cell_type": "code",
      "source": [
        "tuner.search(x_train,y_train,epochs=5,validation_data=(x_test,y_test))"
      ],
      "metadata": {
        "colab": {
          "base_uri": "https://localhost:8080/"
        },
        "id": "wFa2xUwzSQ5x",
        "outputId": "25395036-1523-4bb0-e774-8846bd42f8e6"
      },
      "execution_count": 116,
      "outputs": [
        {
          "output_type": "stream",
          "name": "stdout",
          "text": [
            "Trial 5 Complete [00h 00m 01s]\n",
            "val_accuracy: 0.6298701167106628\n",
            "\n",
            "Best val_accuracy So Far: 0.6298701167106628\n",
            "Total elapsed time: 00h 00m 06s\n"
          ]
        }
      ]
    },
    {
      "cell_type": "code",
      "source": [
        "tuner.get_best_hyperparameters()[0].values"
      ],
      "metadata": {
        "colab": {
          "base_uri": "https://localhost:8080/"
        },
        "id": "pR8nEVY3SW5r",
        "outputId": "e8f5e81d-9874-403a-cde5-ff6488999730"
      },
      "execution_count": 117,
      "outputs": [
        {
          "output_type": "execute_result",
          "data": {
            "text/plain": [
              "{'num_layers': 3, 'units0': 80, 'activation0': 'tanh', 'optimizer': 'SGD'}"
            ]
          },
          "metadata": {},
          "execution_count": 117
        }
      ]
    },
    {
      "cell_type": "code",
      "source": [
        "model = tuner.get_best_models(num_models=1)[0]"
      ],
      "metadata": {
        "id": "IW4cqujoVOGB"
      },
      "execution_count": 118,
      "outputs": []
    },
    {
      "cell_type": "code",
      "source": [
        "model.fit(x_train,y_train,batch_size=32,epochs=100,initial_epoch=6,validation_data=(x_test,y_test))"
      ],
      "metadata": {
        "colab": {
          "base_uri": "https://localhost:8080/"
        },
        "id": "CHbPaTcnVUjN",
        "outputId": "4c9de2f5-e6f2-44de-b09b-579b2d0f3aa1"
      },
      "execution_count": 119,
      "outputs": [
        {
          "output_type": "stream",
          "name": "stdout",
          "text": [
            "Epoch 7/100\n",
            "20/20 [==============================] - 0s 8ms/step - loss: 0.6577 - accuracy: 0.6574 - val_loss: 0.6714 - val_accuracy: 0.6299\n",
            "Epoch 8/100\n",
            "20/20 [==============================] - 0s 3ms/step - loss: 0.6564 - accuracy: 0.6574 - val_loss: 0.6704 - val_accuracy: 0.6299\n",
            "Epoch 9/100\n",
            "20/20 [==============================] - 0s 3ms/step - loss: 0.6553 - accuracy: 0.6574 - val_loss: 0.6695 - val_accuracy: 0.6299\n",
            "Epoch 10/100\n",
            "20/20 [==============================] - 0s 3ms/step - loss: 0.6540 - accuracy: 0.6574 - val_loss: 0.6683 - val_accuracy: 0.6299\n",
            "Epoch 11/100\n",
            "20/20 [==============================] - 0s 3ms/step - loss: 0.6529 - accuracy: 0.6574 - val_loss: 0.6672 - val_accuracy: 0.6299\n",
            "Epoch 12/100\n",
            "20/20 [==============================] - 0s 3ms/step - loss: 0.6519 - accuracy: 0.6574 - val_loss: 0.6664 - val_accuracy: 0.6299\n",
            "Epoch 13/100\n",
            "20/20 [==============================] - 0s 2ms/step - loss: 0.6508 - accuracy: 0.6574 - val_loss: 0.6657 - val_accuracy: 0.6299\n",
            "Epoch 14/100\n",
            "20/20 [==============================] - 0s 3ms/step - loss: 0.6497 - accuracy: 0.6574 - val_loss: 0.6646 - val_accuracy: 0.6299\n",
            "Epoch 15/100\n",
            "20/20 [==============================] - 0s 3ms/step - loss: 0.6489 - accuracy: 0.6574 - val_loss: 0.6633 - val_accuracy: 0.6299\n",
            "Epoch 16/100\n",
            "20/20 [==============================] - 0s 2ms/step - loss: 0.6479 - accuracy: 0.6574 - val_loss: 0.6622 - val_accuracy: 0.6299\n",
            "Epoch 17/100\n",
            "20/20 [==============================] - 0s 2ms/step - loss: 0.6468 - accuracy: 0.6574 - val_loss: 0.6613 - val_accuracy: 0.6299\n",
            "Epoch 18/100\n",
            "20/20 [==============================] - 0s 2ms/step - loss: 0.6457 - accuracy: 0.6574 - val_loss: 0.6604 - val_accuracy: 0.6299\n",
            "Epoch 19/100\n",
            "20/20 [==============================] - 0s 3ms/step - loss: 0.6447 - accuracy: 0.6574 - val_loss: 0.6591 - val_accuracy: 0.6299\n",
            "Epoch 20/100\n",
            "20/20 [==============================] - 0s 2ms/step - loss: 0.6439 - accuracy: 0.6574 - val_loss: 0.6580 - val_accuracy: 0.6299\n",
            "Epoch 21/100\n",
            "20/20 [==============================] - 0s 3ms/step - loss: 0.6427 - accuracy: 0.6574 - val_loss: 0.6570 - val_accuracy: 0.6234\n",
            "Epoch 22/100\n",
            "20/20 [==============================] - 0s 2ms/step - loss: 0.6421 - accuracy: 0.6574 - val_loss: 0.6555 - val_accuracy: 0.6234\n",
            "Epoch 23/100\n",
            "20/20 [==============================] - 0s 3ms/step - loss: 0.6411 - accuracy: 0.6591 - val_loss: 0.6550 - val_accuracy: 0.6234\n",
            "Epoch 24/100\n",
            "20/20 [==============================] - 0s 3ms/step - loss: 0.6403 - accuracy: 0.6591 - val_loss: 0.6538 - val_accuracy: 0.6234\n",
            "Epoch 25/100\n",
            "20/20 [==============================] - 0s 3ms/step - loss: 0.6392 - accuracy: 0.6591 - val_loss: 0.6528 - val_accuracy: 0.6234\n",
            "Epoch 26/100\n",
            "20/20 [==============================] - 0s 2ms/step - loss: 0.6382 - accuracy: 0.6591 - val_loss: 0.6520 - val_accuracy: 0.6234\n",
            "Epoch 27/100\n",
            "20/20 [==============================] - 0s 2ms/step - loss: 0.6372 - accuracy: 0.6591 - val_loss: 0.6513 - val_accuracy: 0.6234\n",
            "Epoch 28/100\n",
            "20/20 [==============================] - 0s 3ms/step - loss: 0.6365 - accuracy: 0.6591 - val_loss: 0.6507 - val_accuracy: 0.6234\n",
            "Epoch 29/100\n",
            "20/20 [==============================] - 0s 2ms/step - loss: 0.6356 - accuracy: 0.6591 - val_loss: 0.6490 - val_accuracy: 0.6234\n",
            "Epoch 30/100\n",
            "20/20 [==============================] - 0s 3ms/step - loss: 0.6347 - accuracy: 0.6591 - val_loss: 0.6477 - val_accuracy: 0.6234\n",
            "Epoch 31/100\n",
            "20/20 [==============================] - 0s 2ms/step - loss: 0.6339 - accuracy: 0.6591 - val_loss: 0.6469 - val_accuracy: 0.6234\n",
            "Epoch 32/100\n",
            "20/20 [==============================] - 0s 3ms/step - loss: 0.6329 - accuracy: 0.6591 - val_loss: 0.6459 - val_accuracy: 0.6234\n",
            "Epoch 33/100\n",
            "20/20 [==============================] - 0s 2ms/step - loss: 0.6319 - accuracy: 0.6591 - val_loss: 0.6451 - val_accuracy: 0.6234\n",
            "Epoch 34/100\n",
            "20/20 [==============================] - 0s 2ms/step - loss: 0.6312 - accuracy: 0.6591 - val_loss: 0.6438 - val_accuracy: 0.6234\n",
            "Epoch 35/100\n",
            "20/20 [==============================] - 0s 2ms/step - loss: 0.6303 - accuracy: 0.6591 - val_loss: 0.6427 - val_accuracy: 0.6234\n",
            "Epoch 36/100\n",
            "20/20 [==============================] - 0s 2ms/step - loss: 0.6295 - accuracy: 0.6591 - val_loss: 0.6418 - val_accuracy: 0.6234\n",
            "Epoch 37/100\n",
            "20/20 [==============================] - 0s 3ms/step - loss: 0.6286 - accuracy: 0.6591 - val_loss: 0.6412 - val_accuracy: 0.6234\n",
            "Epoch 38/100\n",
            "20/20 [==============================] - 0s 3ms/step - loss: 0.6277 - accuracy: 0.6591 - val_loss: 0.6404 - val_accuracy: 0.6234\n",
            "Epoch 39/100\n",
            "20/20 [==============================] - 0s 2ms/step - loss: 0.6269 - accuracy: 0.6591 - val_loss: 0.6394 - val_accuracy: 0.6234\n",
            "Epoch 40/100\n",
            "20/20 [==============================] - 0s 3ms/step - loss: 0.6260 - accuracy: 0.6591 - val_loss: 0.6386 - val_accuracy: 0.6234\n",
            "Epoch 41/100\n",
            "20/20 [==============================] - 0s 3ms/step - loss: 0.6253 - accuracy: 0.6591 - val_loss: 0.6374 - val_accuracy: 0.6234\n",
            "Epoch 42/100\n",
            "20/20 [==============================] - 0s 3ms/step - loss: 0.6245 - accuracy: 0.6607 - val_loss: 0.6364 - val_accuracy: 0.6234\n",
            "Epoch 43/100\n",
            "20/20 [==============================] - 0s 2ms/step - loss: 0.6236 - accuracy: 0.6607 - val_loss: 0.6353 - val_accuracy: 0.6234\n",
            "Epoch 44/100\n",
            "20/20 [==============================] - 0s 2ms/step - loss: 0.6228 - accuracy: 0.6623 - val_loss: 0.6346 - val_accuracy: 0.6234\n",
            "Epoch 45/100\n",
            "20/20 [==============================] - 0s 2ms/step - loss: 0.6219 - accuracy: 0.6623 - val_loss: 0.6339 - val_accuracy: 0.6234\n",
            "Epoch 46/100\n",
            "20/20 [==============================] - 0s 3ms/step - loss: 0.6211 - accuracy: 0.6607 - val_loss: 0.6329 - val_accuracy: 0.6234\n",
            "Epoch 47/100\n",
            "20/20 [==============================] - 0s 2ms/step - loss: 0.6204 - accuracy: 0.6623 - val_loss: 0.6317 - val_accuracy: 0.6234\n",
            "Epoch 48/100\n",
            "20/20 [==============================] - 0s 3ms/step - loss: 0.6195 - accuracy: 0.6623 - val_loss: 0.6307 - val_accuracy: 0.6234\n",
            "Epoch 49/100\n",
            "20/20 [==============================] - 0s 3ms/step - loss: 0.6188 - accuracy: 0.6623 - val_loss: 0.6301 - val_accuracy: 0.6234\n",
            "Epoch 50/100\n",
            "20/20 [==============================] - 0s 2ms/step - loss: 0.6179 - accuracy: 0.6623 - val_loss: 0.6297 - val_accuracy: 0.6234\n",
            "Epoch 51/100\n",
            "20/20 [==============================] - 0s 3ms/step - loss: 0.6171 - accuracy: 0.6623 - val_loss: 0.6286 - val_accuracy: 0.6234\n",
            "Epoch 52/100\n",
            "20/20 [==============================] - 0s 2ms/step - loss: 0.6162 - accuracy: 0.6623 - val_loss: 0.6276 - val_accuracy: 0.6234\n",
            "Epoch 53/100\n",
            "20/20 [==============================] - 0s 3ms/step - loss: 0.6154 - accuracy: 0.6623 - val_loss: 0.6267 - val_accuracy: 0.6234\n",
            "Epoch 54/100\n",
            "20/20 [==============================] - 0s 2ms/step - loss: 0.6146 - accuracy: 0.6639 - val_loss: 0.6256 - val_accuracy: 0.6234\n",
            "Epoch 55/100\n",
            "20/20 [==============================] - 0s 2ms/step - loss: 0.6139 - accuracy: 0.6656 - val_loss: 0.6248 - val_accuracy: 0.6234\n",
            "Epoch 56/100\n",
            "20/20 [==============================] - 0s 2ms/step - loss: 0.6130 - accuracy: 0.6639 - val_loss: 0.6239 - val_accuracy: 0.6234\n",
            "Epoch 57/100\n",
            "20/20 [==============================] - 0s 2ms/step - loss: 0.6123 - accuracy: 0.6656 - val_loss: 0.6231 - val_accuracy: 0.6234\n",
            "Epoch 58/100\n",
            "20/20 [==============================] - 0s 2ms/step - loss: 0.6115 - accuracy: 0.6656 - val_loss: 0.6221 - val_accuracy: 0.6299\n",
            "Epoch 59/100\n",
            "20/20 [==============================] - 0s 3ms/step - loss: 0.6106 - accuracy: 0.6672 - val_loss: 0.6217 - val_accuracy: 0.6234\n",
            "Epoch 60/100\n",
            "20/20 [==============================] - 0s 3ms/step - loss: 0.6099 - accuracy: 0.6639 - val_loss: 0.6204 - val_accuracy: 0.6299\n",
            "Epoch 61/100\n",
            "20/20 [==============================] - 0s 3ms/step - loss: 0.6090 - accuracy: 0.6656 - val_loss: 0.6195 - val_accuracy: 0.6299\n",
            "Epoch 62/100\n",
            "20/20 [==============================] - 0s 2ms/step - loss: 0.6085 - accuracy: 0.6688 - val_loss: 0.6186 - val_accuracy: 0.6299\n",
            "Epoch 63/100\n",
            "20/20 [==============================] - 0s 3ms/step - loss: 0.6077 - accuracy: 0.6705 - val_loss: 0.6179 - val_accuracy: 0.6299\n",
            "Epoch 64/100\n",
            "20/20 [==============================] - 0s 2ms/step - loss: 0.6069 - accuracy: 0.6705 - val_loss: 0.6172 - val_accuracy: 0.6299\n",
            "Epoch 65/100\n",
            "20/20 [==============================] - 0s 3ms/step - loss: 0.6062 - accuracy: 0.6705 - val_loss: 0.6162 - val_accuracy: 0.6299\n",
            "Epoch 66/100\n",
            "20/20 [==============================] - 0s 3ms/step - loss: 0.6053 - accuracy: 0.6721 - val_loss: 0.6151 - val_accuracy: 0.6299\n",
            "Epoch 67/100\n",
            "20/20 [==============================] - 0s 2ms/step - loss: 0.6047 - accuracy: 0.6754 - val_loss: 0.6146 - val_accuracy: 0.6299\n",
            "Epoch 68/100\n",
            "20/20 [==============================] - 0s 3ms/step - loss: 0.6040 - accuracy: 0.6754 - val_loss: 0.6140 - val_accuracy: 0.6299\n",
            "Epoch 69/100\n",
            "20/20 [==============================] - 0s 2ms/step - loss: 0.6031 - accuracy: 0.6737 - val_loss: 0.6127 - val_accuracy: 0.6299\n",
            "Epoch 70/100\n",
            "20/20 [==============================] - 0s 3ms/step - loss: 0.6024 - accuracy: 0.6770 - val_loss: 0.6117 - val_accuracy: 0.6299\n",
            "Epoch 71/100\n",
            "20/20 [==============================] - 0s 3ms/step - loss: 0.6016 - accuracy: 0.6737 - val_loss: 0.6106 - val_accuracy: 0.6299\n",
            "Epoch 72/100\n",
            "20/20 [==============================] - 0s 3ms/step - loss: 0.6008 - accuracy: 0.6721 - val_loss: 0.6098 - val_accuracy: 0.6234\n",
            "Epoch 73/100\n",
            "20/20 [==============================] - 0s 3ms/step - loss: 0.6000 - accuracy: 0.6705 - val_loss: 0.6093 - val_accuracy: 0.6299\n",
            "Epoch 74/100\n",
            "20/20 [==============================] - 0s 2ms/step - loss: 0.5993 - accuracy: 0.6688 - val_loss: 0.6084 - val_accuracy: 0.6234\n",
            "Epoch 75/100\n",
            "20/20 [==============================] - 0s 3ms/step - loss: 0.5986 - accuracy: 0.6705 - val_loss: 0.6075 - val_accuracy: 0.6234\n",
            "Epoch 76/100\n",
            "20/20 [==============================] - 0s 2ms/step - loss: 0.5977 - accuracy: 0.6705 - val_loss: 0.6066 - val_accuracy: 0.6234\n",
            "Epoch 77/100\n",
            "20/20 [==============================] - 0s 2ms/step - loss: 0.5971 - accuracy: 0.6737 - val_loss: 0.6058 - val_accuracy: 0.6234\n",
            "Epoch 78/100\n",
            "20/20 [==============================] - 0s 3ms/step - loss: 0.5964 - accuracy: 0.6721 - val_loss: 0.6053 - val_accuracy: 0.6234\n",
            "Epoch 79/100\n",
            "20/20 [==============================] - 0s 3ms/step - loss: 0.5956 - accuracy: 0.6721 - val_loss: 0.6050 - val_accuracy: 0.6234\n",
            "Epoch 80/100\n",
            "20/20 [==============================] - 0s 3ms/step - loss: 0.5949 - accuracy: 0.6737 - val_loss: 0.6035 - val_accuracy: 0.6234\n",
            "Epoch 81/100\n",
            "20/20 [==============================] - 0s 2ms/step - loss: 0.5941 - accuracy: 0.6737 - val_loss: 0.6026 - val_accuracy: 0.6299\n",
            "Epoch 82/100\n",
            "20/20 [==============================] - 0s 2ms/step - loss: 0.5936 - accuracy: 0.6754 - val_loss: 0.6016 - val_accuracy: 0.6364\n",
            "Epoch 83/100\n",
            "20/20 [==============================] - 0s 3ms/step - loss: 0.5927 - accuracy: 0.6754 - val_loss: 0.6013 - val_accuracy: 0.6299\n",
            "Epoch 84/100\n",
            "20/20 [==============================] - 0s 2ms/step - loss: 0.5920 - accuracy: 0.6737 - val_loss: 0.6007 - val_accuracy: 0.6234\n",
            "Epoch 85/100\n",
            "20/20 [==============================] - 0s 3ms/step - loss: 0.5914 - accuracy: 0.6754 - val_loss: 0.6003 - val_accuracy: 0.6234\n",
            "Epoch 86/100\n",
            "20/20 [==============================] - 0s 3ms/step - loss: 0.5908 - accuracy: 0.6721 - val_loss: 0.5996 - val_accuracy: 0.6234\n",
            "Epoch 87/100\n",
            "20/20 [==============================] - 0s 2ms/step - loss: 0.5899 - accuracy: 0.6737 - val_loss: 0.5989 - val_accuracy: 0.6299\n",
            "Epoch 88/100\n",
            "20/20 [==============================] - 0s 2ms/step - loss: 0.5894 - accuracy: 0.6721 - val_loss: 0.5977 - val_accuracy: 0.6299\n",
            "Epoch 89/100\n",
            "20/20 [==============================] - 0s 3ms/step - loss: 0.5884 - accuracy: 0.6737 - val_loss: 0.5970 - val_accuracy: 0.6299\n",
            "Epoch 90/100\n",
            "20/20 [==============================] - 0s 2ms/step - loss: 0.5879 - accuracy: 0.6770 - val_loss: 0.5961 - val_accuracy: 0.6429\n",
            "Epoch 91/100\n",
            "20/20 [==============================] - 0s 2ms/step - loss: 0.5872 - accuracy: 0.6737 - val_loss: 0.5954 - val_accuracy: 0.6429\n",
            "Epoch 92/100\n",
            "20/20 [==============================] - 0s 3ms/step - loss: 0.5867 - accuracy: 0.6770 - val_loss: 0.5946 - val_accuracy: 0.6494\n",
            "Epoch 93/100\n",
            "20/20 [==============================] - 0s 3ms/step - loss: 0.5857 - accuracy: 0.6721 - val_loss: 0.5939 - val_accuracy: 0.6494\n",
            "Epoch 94/100\n",
            "20/20 [==============================] - 0s 3ms/step - loss: 0.5851 - accuracy: 0.6737 - val_loss: 0.5934 - val_accuracy: 0.6494\n",
            "Epoch 95/100\n",
            "20/20 [==============================] - 0s 2ms/step - loss: 0.5846 - accuracy: 0.6770 - val_loss: 0.5922 - val_accuracy: 0.6494\n",
            "Epoch 96/100\n",
            "20/20 [==============================] - 0s 3ms/step - loss: 0.5838 - accuracy: 0.6786 - val_loss: 0.5911 - val_accuracy: 0.6558\n",
            "Epoch 97/100\n",
            "20/20 [==============================] - 0s 3ms/step - loss: 0.5831 - accuracy: 0.6786 - val_loss: 0.5902 - val_accuracy: 0.6558\n",
            "Epoch 98/100\n",
            "20/20 [==============================] - 0s 2ms/step - loss: 0.5823 - accuracy: 0.6835 - val_loss: 0.5896 - val_accuracy: 0.6558\n",
            "Epoch 99/100\n",
            "20/20 [==============================] - 0s 2ms/step - loss: 0.5816 - accuracy: 0.6819 - val_loss: 0.5883 - val_accuracy: 0.6688\n",
            "Epoch 100/100\n",
            "20/20 [==============================] - 0s 3ms/step - loss: 0.5810 - accuracy: 0.6900 - val_loss: 0.5875 - val_accuracy: 0.6753\n"
          ]
        },
        {
          "output_type": "execute_result",
          "data": {
            "text/plain": [
              "<keras.src.callbacks.History at 0x7d6d3b75f370>"
            ]
          },
          "metadata": {},
          "execution_count": 119
        }
      ]
    },
    {
      "cell_type": "code",
      "source": [
        "model.evaluate(x_test,y_test)"
      ],
      "metadata": {
        "id": "hMH4BJXiViu_",
        "outputId": "1ffed241-2dda-440d-d489-31f2abe6d4d6",
        "colab": {
          "base_uri": "https://localhost:8080/"
        }
      },
      "execution_count": 120,
      "outputs": [
        {
          "output_type": "stream",
          "name": "stdout",
          "text": [
            "5/5 [==============================] - 0s 2ms/step - loss: 0.5875 - accuracy: 0.6753\n"
          ]
        },
        {
          "output_type": "execute_result",
          "data": {
            "text/plain": [
              "[0.5875348448753357, 0.6753246784210205]"
            ]
          },
          "metadata": {},
          "execution_count": 120
        }
      ]
    },
    {
      "cell_type": "code",
      "source": [
        "y_pred = model.predict(x_test)"
      ],
      "metadata": {
        "id": "1Pkxz0YxZmz2",
        "outputId": "a9c57bbb-3526-437a-f598-d8dc86e81c45",
        "colab": {
          "base_uri": "https://localhost:8080/"
        }
      },
      "execution_count": 121,
      "outputs": [
        {
          "output_type": "stream",
          "name": "stdout",
          "text": [
            "5/5 [==============================] - 0s 2ms/step\n"
          ]
        }
      ]
    },
    {
      "cell_type": "code",
      "source": [
        "y_predict = []\n",
        "\n",
        "for i in y_pred:\n",
        "  if i < 0.5:\n",
        "    y_predict.append(0)\n",
        "  else:\n",
        "    y_predict.append(1)"
      ],
      "metadata": {
        "id": "1EUVkDHOZqAi"
      },
      "execution_count": 122,
      "outputs": []
    },
    {
      "cell_type": "code",
      "source": [
        "from sklearn.metrics import r2_score\n",
        "r2_score(y_test,y_pred)"
      ],
      "metadata": {
        "id": "zyCCtPzbZ2JF",
        "outputId": "48dda61b-eec8-4b02-fd12-d5fba6167799",
        "colab": {
          "base_uri": "https://localhost:8080/"
        }
      },
      "execution_count": 123,
      "outputs": [
        {
          "output_type": "execute_result",
          "data": {
            "text/plain": [
              "0.14127202857094168"
            ]
          },
          "metadata": {},
          "execution_count": 123
        }
      ]
    },
    {
      "cell_type": "code",
      "source": [
        "from sklearn.preprocessing import StandardScaler\n",
        "from sklearn.metrics import confusion_matrix, classification_report"
      ],
      "metadata": {
        "id": "l8D7FGJUaNnE"
      },
      "execution_count": 124,
      "outputs": []
    },
    {
      "cell_type": "code",
      "source": [
        "from sklearn.metrics import confusion_matrix,classification_report\n",
        "print(classification_report(y_test,y_predict))"
      ],
      "metadata": {
        "id": "raS87ZGEafHk",
        "outputId": "2a05a929-a2b7-4cdc-ae65-6291523bcceb",
        "colab": {
          "base_uri": "https://localhost:8080/"
        }
      },
      "execution_count": 125,
      "outputs": [
        {
          "output_type": "stream",
          "name": "stdout",
          "text": [
            "              precision    recall  f1-score   support\n",
            "\n",
            "           0       0.67      0.97      0.79        97\n",
            "           1       0.77      0.18      0.29        57\n",
            "\n",
            "    accuracy                           0.68       154\n",
            "   macro avg       0.72      0.57      0.54       154\n",
            "weighted avg       0.70      0.68      0.60       154\n",
            "\n"
          ]
        }
      ]
    },
    {
      "cell_type": "code",
      "source": [
        "import seaborn as sn\n",
        "import matplotlib.pyplot as plt\n",
        "cm = tf.math.confusion_matrix(labels=y_test,predictions=y_predict)\n",
        "plt.figure(figsize=(8,5))\n",
        "sn.heatmap(cm,annot=True,fmt='d')\n",
        "plt.xlabel('Predicted')\n",
        "plt.ylabel('Truth')"
      ],
      "metadata": {
        "id": "AFgwnSW2ajeE",
        "outputId": "48a678f0-f9ed-40c7-f63e-7dd3511ba5b3",
        "colab": {
          "base_uri": "https://localhost:8080/",
          "height": 482
        }
      },
      "execution_count": 126,
      "outputs": [
        {
          "output_type": "execute_result",
          "data": {
            "text/plain": [
              "Text(70.72222222222221, 0.5, 'Truth')"
            ]
          },
          "metadata": {},
          "execution_count": 126
        },
        {
          "output_type": "display_data",
          "data": {
            "text/plain": [
              "<Figure size 800x500 with 2 Axes>"
            ],
            "image/png": "[encoded data removed]"
          },
          "metadata": {}
        }
      ]
    }
  ]
}